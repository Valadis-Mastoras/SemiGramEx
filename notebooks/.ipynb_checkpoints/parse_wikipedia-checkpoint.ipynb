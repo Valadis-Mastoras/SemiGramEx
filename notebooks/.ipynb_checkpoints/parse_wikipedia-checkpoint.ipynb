{
 "cells": [
  {
   "cell_type": "markdown",
   "id": "looking-raise",
   "metadata": {
    "id": "vHca4-R0-j54"
   },
   "source": [
    "## Parse the simple wikipedia sentences"
   ]
  },
  {
   "cell_type": "code",
   "execution_count": null,
   "id": "going-unknown",
   "metadata": {
    "colab": {
     "base_uri": "https://localhost:8080/"
    },
    "executionInfo": {
     "elapsed": 3507,
     "status": "ok",
     "timestamp": 1623312433340,
     "user": {
      "displayName": "Valadis Mastoras",
      "photoUrl": "",
      "userId": "10247108696768599083"
     },
     "user_tz": -180
    },
    "id": "AS_Lh5rL-phc",
    "outputId": "c4ce1ad8-4b19-4911-d081-5b88f086104e"
   },
   "outputs": [
    {
     "name": "stdout",
     "output_type": "stream",
     "text": [
      "Collecting stanza\n",
      "\u001b[?25l  Downloading https://files.pythonhosted.org/packages/2d/f3/cd7eaacabcec195a1c6c07b08cf1587b9f3f8754feba5c87d28867d75671/stanza-1.2.1-py3-none-any.whl (334kB)\n",
      "\r",
      "\u001b[K     |█                               | 10kB 14.0MB/s eta 0:00:01\r",
      "\u001b[K     |██                              | 20kB 21.2MB/s eta 0:00:01\r",
      "\u001b[K     |███                             | 30kB 21.3MB/s eta 0:00:01\r",
      "\u001b[K     |████                            | 40kB 17.2MB/s eta 0:00:01\r",
      "\u001b[K     |█████                           | 51kB 9.4MB/s eta 0:00:01\r",
      "\u001b[K     |█████▉                          | 61kB 8.4MB/s eta 0:00:01\r",
      "\u001b[K     |██████▉                         | 71kB 9.4MB/s eta 0:00:01\r",
      "\u001b[K     |███████▉                        | 81kB 10.4MB/s eta 0:00:01\r",
      "\u001b[K     |████████▉                       | 92kB 11.0MB/s eta 0:00:01\r",
      "\u001b[K     |█████████▉                      | 102kB 9.1MB/s eta 0:00:01\r",
      "\u001b[K     |██████████▊                     | 112kB 9.1MB/s eta 0:00:01\r",
      "\u001b[K     |███████████▊                    | 122kB 9.1MB/s eta 0:00:01\r",
      "\u001b[K     |████████████▊                   | 133kB 9.1MB/s eta 0:00:01\r",
      "\u001b[K     |█████████████▊                  | 143kB 9.1MB/s eta 0:00:01\r",
      "\u001b[K     |██████████████▊                 | 153kB 9.1MB/s eta 0:00:01\r",
      "\u001b[K     |███████████████▊                | 163kB 9.1MB/s eta 0:00:01\r",
      "\u001b[K     |████████████████▋               | 174kB 9.1MB/s eta 0:00:01\r",
      "\u001b[K     |█████████████████▋              | 184kB 9.1MB/s eta 0:00:01\r",
      "\u001b[K     |██████████████████▋             | 194kB 9.1MB/s eta 0:00:01\r",
      "\u001b[K     |███████████████████▋            | 204kB 9.1MB/s eta 0:00:01\r",
      "\u001b[K     |████████████████████▋           | 215kB 9.1MB/s eta 0:00:01\r",
      "\u001b[K     |█████████████████████▌          | 225kB 9.1MB/s eta 0:00:01\r",
      "\u001b[K     |██████████████████████▌         | 235kB 9.1MB/s eta 0:00:01\r",
      "\u001b[K     |███████████████████████▌        | 245kB 9.1MB/s eta 0:00:01\r",
      "\u001b[K     |████████████████████████▌       | 256kB 9.1MB/s eta 0:00:01\r",
      "\u001b[K     |█████████████████████████▌      | 266kB 9.1MB/s eta 0:00:01\r",
      "\u001b[K     |██████████████████████████▍     | 276kB 9.1MB/s eta 0:00:01\r",
      "\u001b[K     |███████████████████████████▍    | 286kB 9.1MB/s eta 0:00:01\r",
      "\u001b[K     |████████████████████████████▍   | 296kB 9.1MB/s eta 0:00:01\r",
      "\u001b[K     |█████████████████████████████▍  | 307kB 9.1MB/s eta 0:00:01\r",
      "\u001b[K     |██████████████████████████████▍ | 317kB 9.1MB/s eta 0:00:01\r",
      "\u001b[K     |███████████████████████████████▍| 327kB 9.1MB/s eta 0:00:01\r",
      "\u001b[K     |████████████████████████████████| 337kB 9.1MB/s \n",
      "\u001b[?25hRequirement already satisfied: requests in /usr/local/lib/python3.7/dist-packages (from stanza) (2.23.0)\n",
      "Requirement already satisfied: tqdm in /usr/local/lib/python3.7/dist-packages (from stanza) (4.41.1)\n",
      "Requirement already satisfied: numpy in /usr/local/lib/python3.7/dist-packages (from stanza) (1.19.5)\n",
      "Requirement already satisfied: torch>=1.3.0 in /usr/local/lib/python3.7/dist-packages (from stanza) (1.8.1+cu101)\n",
      "Requirement already satisfied: protobuf in /usr/local/lib/python3.7/dist-packages (from stanza) (3.12.4)\n",
      "Requirement already satisfied: urllib3!=1.25.0,!=1.25.1,<1.26,>=1.21.1 in /usr/local/lib/python3.7/dist-packages (from requests->stanza) (1.24.3)\n",
      "Requirement already satisfied: chardet<4,>=3.0.2 in /usr/local/lib/python3.7/dist-packages (from requests->stanza) (3.0.4)\n",
      "Requirement already satisfied: idna<3,>=2.5 in /usr/local/lib/python3.7/dist-packages (from requests->stanza) (2.10)\n",
      "Requirement already satisfied: certifi>=2017.4.17 in /usr/local/lib/python3.7/dist-packages (from requests->stanza) (2020.12.5)\n",
      "Requirement already satisfied: typing-extensions in /usr/local/lib/python3.7/dist-packages (from torch>=1.3.0->stanza) (3.7.4.3)\n",
      "Requirement already satisfied: six>=1.9 in /usr/local/lib/python3.7/dist-packages (from protobuf->stanza) (1.15.0)\n",
      "Requirement already satisfied: setuptools in /usr/local/lib/python3.7/dist-packages (from protobuf->stanza) (57.0.0)\n",
      "Installing collected packages: stanza\n",
      "Successfully installed stanza-1.2.1\n"
     ]
    }
   ],
   "source": [
    "!pip install stanza"
   ]
  },
  {
   "cell_type": "code",
   "execution_count": null,
   "id": "capable-brighton",
   "metadata": {
    "id": "lFWAZKrD-pj-"
   },
   "outputs": [],
   "source": [
    "import stanza\n",
    "import pandas as pd\n",
    "import os\n",
    "import pickle\n",
    "import re"
   ]
  },
  {
   "cell_type": "code",
   "execution_count": null,
   "id": "dying-atmosphere",
   "metadata": {
    "colab": {
     "base_uri": "https://localhost:8080/",
     "height": 149,
     "referenced_widgets": [
      "9ea0dbb2a72d432cb23e30ab2fd46e30",
      "7d648c04c78649e8b15a415dbb077aab",
      "b7423f8e7d8446a584780829443eef9d",
      "c819810b431341779a2341e67bea6bd0",
      "99b3f2fd25544a15b976a4c589ea45a7",
      "a5086bfd81bc4393b23f3bdd5bf9ee5f",
      "5977f5de76674dd9be8cd5907e2baafb",
      "b76e4141b6ff4ac482767cac08f4535b",
      "15f05e58f0e94aefa0f6c01a98f6161b",
      "282e01788a7742ae80201d3016f35638",
      "fd68c160d905474d9596e9367d1380b8",
      "85ecef652ade4e4abcd944ea2461abcd",
      "4fcb0c7374bf4f1bb379e6630a2b6014",
      "9bc9ed3ea68a437a84b0289adae2f45f",
      "9b12567c2d624e41a5dbc3a7de6f99d8",
      "d98ef56937674e27873960dce86522d7"
     ]
    },
    "executionInfo": {
     "elapsed": 278088,
     "status": "ok",
     "timestamp": 1623312913164,
     "user": {
      "displayName": "Valadis Mastoras",
      "photoUrl": "",
      "userId": "10247108696768599083"
     },
     "user_tz": -180
    },
    "id": "ceTPP7im2Qec",
    "outputId": "f7ad222f-c912-4069-e540-c4ee3ac062d0"
   },
   "outputs": [
    {
     "data": {
      "application/vnd.jupyter.widget-view+json": {
       "model_id": "9ea0dbb2a72d432cb23e30ab2fd46e30",
       "version_major": 2,
       "version_minor": 0
      },
      "text/plain": [
       "HBox(children=(FloatProgress(value=0.0, description='Downloading https://raw.githubusercontent.com/stanfordnlp…"
      ]
     },
     "metadata": {
      "tags": []
     },
     "output_type": "display_data"
    },
    {
     "name": "stderr",
     "output_type": "stream",
     "text": [
      "2021-06-10 08:10:35 INFO: Downloading default packages for language: en (English)...\n"
     ]
    },
    {
     "name": "stdout",
     "output_type": "stream",
     "text": [
      "\n"
     ]
    },
    {
     "data": {
      "application/vnd.jupyter.widget-view+json": {
       "model_id": "15f05e58f0e94aefa0f6c01a98f6161b",
       "version_major": 2,
       "version_minor": 0
      },
      "text/plain": [
       "HBox(children=(FloatProgress(value=0.0, description='Downloading http://nlp.stanford.edu/software/stanza/1.2.1…"
      ]
     },
     "metadata": {
      "tags": []
     },
     "output_type": "display_data"
    },
    {
     "name": "stdout",
     "output_type": "stream",
     "text": [
      "\n"
     ]
    },
    {
     "name": "stderr",
     "output_type": "stream",
     "text": [
      "2021-06-10 08:15:12 INFO: Finished downloading models and saved to /root/stanza_resources.\n"
     ]
    }
   ],
   "source": [
    "stanza.download('en')"
   ]
  },
  {
   "cell_type": "code",
   "execution_count": null,
   "id": "following-requirement",
   "metadata": {
    "colab": {
     "base_uri": "https://localhost:8080/"
    },
    "executionInfo": {
     "elapsed": 11821,
     "status": "ok",
     "timestamp": 1623312924966,
     "user": {
      "displayName": "Valadis Mastoras",
      "photoUrl": "",
      "userId": "10247108696768599083"
     },
     "user_tz": -180
    },
    "id": "iyKGI8qY-rf4",
    "outputId": "72d14b96-cb3b-457a-d257-146c30ab751b"
   },
   "outputs": [
    {
     "name": "stderr",
     "output_type": "stream",
     "text": [
      "2021-06-10 08:15:12 WARNING: Can not find mwt: default from official model list. Ignoring it.\n",
      "2021-06-10 08:15:12 INFO: Loading these models for language: en (English):\n",
      "========================\n",
      "| Processor | Package  |\n",
      "------------------------\n",
      "| tokenize  | combined |\n",
      "| pos       | combined |\n",
      "| lemma     | combined |\n",
      "| depparse  | combined |\n",
      "========================\n",
      "\n",
      "2021-06-10 08:15:12 INFO: Use device: gpu\n",
      "2021-06-10 08:15:12 INFO: Loading: tokenize\n",
      "2021-06-10 08:15:23 INFO: Loading: pos\n",
      "2021-06-10 08:15:23 INFO: Loading: lemma\n",
      "2021-06-10 08:15:24 INFO: Loading: depparse\n",
      "2021-06-10 08:15:24 INFO: Done loading processors!\n"
     ]
    }
   ],
   "source": [
    "nlp = stanza.Pipeline(lang='en', processors='tokenize, pos, mwt, lemma, depparse')"
   ]
  },
  {
   "cell_type": "code",
   "execution_count": null,
   "id": "elder-vision",
   "metadata": {
    "id": "JsPHddEq-riR"
   },
   "outputs": [],
   "source": [
    "with open('./data/misc/wikipedia_sentences_unparsed.pkl', 'rb') as f:\n",
    "    corpus_sentences = pickle.load(f)"
   ]
  },
  {
   "cell_type": "code",
   "execution_count": null,
   "id": "consolidated-somalia",
   "metadata": {
    "colab": {
     "base_uri": "https://localhost:8080/"
    },
    "executionInfo": {
     "elapsed": 7,
     "status": "ok",
     "timestamp": 1623313028028,
     "user": {
      "displayName": "Valadis Mastoras",
      "photoUrl": "",
      "userId": "10247108696768599083"
     },
     "user_tz": -180
    },
    "id": "poF-MtkeKJYC",
    "outputId": "2845ab16-3ccb-4cc7-e381-1e0d553a4d02"
   },
   "outputs": [
    {
     "data": {
      "text/plain": [
       "252083"
      ]
     },
     "execution_count": 26,
     "metadata": {
      "tags": []
     },
     "output_type": "execute_result"
    }
   ],
   "source": [
    "len(corpus_sentences)"
   ]
  },
  {
   "cell_type": "code",
   "execution_count": null,
   "id": "tribal-lincoln",
   "metadata": {
    "id": "dDs7CnCxRPWH"
   },
   "outputs": [],
   "source": [
    "# limit the sentence size between 4 and 25 words\n",
    "corpus_sentences_clean = []\n",
    "\n",
    "for sen in corpus_sentences:\n",
    "\n",
    "  # limit the sentence size between 4 and 25, for better results\n",
    "  if (len(re.findall(r'\\w+', sen)) >= 4 and len(re.findall(r'\\w+', sen)) <= 25):\n",
    "\n",
    "    corpus_sentences_clean.append(sen)"
   ]
  },
  {
   "cell_type": "code",
   "execution_count": null,
   "id": "requested-employment",
   "metadata": {
    "colab": {
     "base_uri": "https://localhost:8080/"
    },
    "executionInfo": {
     "elapsed": 17,
     "status": "ok",
     "timestamp": 1623313033975,
     "user": {
      "displayName": "Valadis Mastoras",
      "photoUrl": "",
      "userId": "10247108696768599083"
     },
     "user_tz": -180
    },
    "id": "1TtAJPUu6RAr",
    "outputId": "f2fb75bc-c7c6-44c6-8660-c74d4648e1fa"
   },
   "outputs": [
    {
     "data": {
      "text/plain": [
       "216185"
      ]
     },
     "execution_count": 28,
     "metadata": {
      "tags": []
     },
     "output_type": "execute_result"
    }
   ],
   "source": [
    "len(corpus_sentences_clean)"
   ]
  },
  {
   "cell_type": "markdown",
   "id": "secure-costume",
   "metadata": {
    "id": "1HrkHiAL_x07"
   },
   "source": [
    "## We loop twice. In the first loop, we obtain the whole parsing information. In the second loop, we obtain only the tokenized sentences. The reason to do that, is because we want to retrieve the parsing information from the lowercased text, since incosistencies in the lemma form may exist otherwise. Nevertheless, we also loop for a second time to reobtain the tokenized form, since the final sentences generation will be based on those tokens and with the lowercased ones, important information might be lost (eg the capitalization of proper names)"
   ]
  },
  {
   "cell_type": "code",
   "execution_count": null,
   "id": "velvet-glass",
   "metadata": {
    "id": "FySTrzIT-rkn"
   },
   "outputs": [],
   "source": [
    "# obtain the parsing information\n",
    "upos_sentence_list = []\n",
    "xpos_sentence_list = []\n",
    "lemma_sentence_list = []\n",
    "dependency_sentence_list = []\n",
    "features_sentence_list = []\n",
    "id_sentence_list = []\n",
    "head_sentence_list = []\n",
    "\n",
    "for sentence in corpus_sentences_clean:\n",
    "    parsed_sentence = nlp(sentence.lower())\n",
    "\n",
    "    upos_list = []\n",
    "    xpos_list = []\n",
    "    lemma_list = []\n",
    "    dependency_list = []\n",
    "    features_list = []\n",
    "    id_list = []\n",
    "    head_list = []\n",
    "\n",
    "    for sentence in parsed_sentence.sentences:\n",
    "        for word in sentence.words:\n",
    "\n",
    "            # upos\n",
    "            upos_list.append(word.upos)\n",
    "            # xpos\n",
    "            xpos_list.append(word.xpos)\n",
    "            # lemma\n",
    "            lemma_list.append(word.lemma)\n",
    "\n",
    "                # dependencies \n",
    "                if word.head > 0:\n",
    "                    head_word = sentence.words[word.head - 1].text         \n",
    "                else:\n",
    "                    head_word = \"root\"\n",
    "                dependency_list.append((head_word,word.deprel))\n",
    "\n",
    "                # features\n",
    "                if word.feats:   \n",
    "                    features_list.append(word.feats)\n",
    "                else:\n",
    "                    features_list.append('_')\n",
    "\n",
    "                # id\n",
    "                id_list.append(word.id)\n",
    "                # head\n",
    "                head_list.append(word.head)\n",
    "    \n",
    "    upos_sentence_list.append(upos_list)\n",
    "    xpos_sentence_list.append(xpos_list)\n",
    "    lemma_sentence_list.append(lemma_list)\n",
    "    dependency_sentence_list.append(dependency_list)\n",
    "    features_sentence_list.append(features_list)\n",
    "    id_sentence_list.append(id_list)\n",
    "    head_sentence_list.append(head_list)"
   ]
  },
  {
   "cell_type": "code",
   "execution_count": null,
   "id": "sublime-cover",
   "metadata": {
    "id": "7PK9tEk_AVJn"
   },
   "outputs": [],
   "source": [
    "# obtain only the tokens\n",
    "tokens_sentence_list = []\n",
    "\n",
    "for sentence in corpus_sentences_clean:\n",
    "    parsed_sentence = nlp(sentence)\n",
    "\n",
    "    tokens_list = []\n",
    "\n",
    "    for sentence in parsed_sentence.sentences:\n",
    "        for word in sentence.words:\n",
    "\n",
    "            # tokens\n",
    "            tokens_list.append(word.text)\n",
    "\n",
    "    tokens_sentence_list.append(tokens_list)"
   ]
  },
  {
   "cell_type": "code",
   "execution_count": null,
   "id": "sunrise-member",
   "metadata": {
    "id": "Vdfjan0AN4G_"
   },
   "outputs": [],
   "source": [
    "# final dataset\n",
    "dataset = {\n",
    "           'Sentence':  corpus_sentences_clean,\n",
    "           'Tokens': tokens_sentence_list,\n",
    "           'Lemma': lemma_sentence_list,\n",
    "           'Upos':  upos_sentence_list,\n",
    "           'Xpos':  xpos_sentence_list,\n",
    "           'Dependency':  dependency_sentence_list,\n",
    "           'Features': features_sentence_list,\n",
    "           'id': id_sentence_list,\n",
    "           'Head': head_sentence_list\n",
    "          }\n",
    "\n",
    "df = pd.DataFrame (dataset, columns = ['Sentence', 'Tokens', 'Lemma', 'Upos', 'Xpos', 'Dependency', 'Features', 'id', 'Head'])"
   ]
  },
  {
   "cell_type": "code",
   "execution_count": null,
   "id": "residential-blind",
   "metadata": {
    "colab": {
     "base_uri": "https://localhost:8080/",
     "height": 810
    },
    "executionInfo": {
     "elapsed": 24,
     "status": "ok",
     "timestamp": 1623331257239,
     "user": {
      "displayName": "Valadis Mastoras",
      "photoUrl": "",
      "userId": "10247108696768599083"
     },
     "user_tz": -180
    },
    "id": "VIB2VakP53QC",
    "outputId": "3a221923-50f0-4645-fb2e-f69aa8dbb5e2"
   },
   "outputs": [
    {
     "data": {
      "text/html": [
       "<div>\n",
       "<style scoped>\n",
       "    .dataframe tbody tr th:only-of-type {\n",
       "        vertical-align: middle;\n",
       "    }\n",
       "\n",
       "    .dataframe tbody tr th {\n",
       "        vertical-align: top;\n",
       "    }\n",
       "\n",
       "    .dataframe thead th {\n",
       "        text-align: right;\n",
       "    }\n",
       "</style>\n",
       "<table border=\"1\" class=\"dataframe\">\n",
       "  <thead>\n",
       "    <tr style=\"text-align: right;\">\n",
       "      <th></th>\n",
       "      <th>Sentence</th>\n",
       "      <th>Tokens</th>\n",
       "      <th>Lemma</th>\n",
       "      <th>Upos</th>\n",
       "      <th>Xpos</th>\n",
       "      <th>Dependency</th>\n",
       "      <th>Features</th>\n",
       "      <th>id</th>\n",
       "      <th>Head</th>\n",
       "    </tr>\n",
       "  </thead>\n",
       "  <tbody>\n",
       "    <tr>\n",
       "      <th>0</th>\n",
       "      <td>Reuven Rivlin has been the President since Jul...</td>\n",
       "      <td>[Reuven, Rivlin, has, been, the, President, si...</td>\n",
       "      <td>[reuven, rivlin, have, be, the, president, sin...</td>\n",
       "      <td>[PROPN, PROPN, AUX, AUX, DET, NOUN, ADP, PROPN...</td>\n",
       "      <td>[NNP, NNP, VBZ, VBN, DT, NN, IN, NNP, CD, .]</td>\n",
       "      <td>[(president, nsubj), (reuven, flat), (presiden...</td>\n",
       "      <td>[Number=Sing, Number=Sing, Mood=Ind|Number=Sin...</td>\n",
       "      <td>[1, 2, 3, 4, 5, 6, 7, 8, 9, 10]</td>\n",
       "      <td>[6, 1, 6, 6, 6, 0, 8, 6, 8, 6]</td>\n",
       "    </tr>\n",
       "    <tr>\n",
       "      <th>1</th>\n",
       "      <td>The volcanic soil of the islands proved to be ...</td>\n",
       "      <td>[The, volcanic, soil, of, the, islands, proved...</td>\n",
       "      <td>[the, volcanic, soil, of, the, island, prove, ...</td>\n",
       "      <td>[DET, ADJ, NOUN, ADP, DET, NOUN, VERB, PART, A...</td>\n",
       "      <td>[DT, JJ, NN, IN, DT, NNS, VBD, TO, VB, JJ, IN,...</td>\n",
       "      <td>[(soil, det), (soil, amod), (proved, nsubj), (...</td>\n",
       "      <td>[Definite=Def|PronType=Art, Degree=Pos, Number...</td>\n",
       "      <td>[1, 2, 3, 4, 5, 6, 7, 8, 9, 10, 11, 12, 13, 14]</td>\n",
       "      <td>[3, 3, 7, 6, 6, 3, 0, 10, 10, 7, 13, 13, 10, 7]</td>\n",
       "    </tr>\n",
       "    <tr>\n",
       "      <th>2</th>\n",
       "      <td>After the Sharpeville Massacre, the UN tried t...</td>\n",
       "      <td>[After, the, Sharpeville, Massacre, ,, the, UN...</td>\n",
       "      <td>[after, the, sharpeville, massacre, ,, the, un...</td>\n",
       "      <td>[ADP, DET, ADJ, NOUN, PUNCT, DET, PROPN, VERB,...</td>\n",
       "      <td>[IN, DT, JJ, NN, ,, DT, NNP, VBD, TO, VB, JJ, ...</td>\n",
       "      <td>[(massacre, case), (massacre, det), (massacre,...</td>\n",
       "      <td>[_, Definite=Def|PronType=Art, Degree=Pos, Num...</td>\n",
       "      <td>[1, 2, 3, 4, 5, 6, 7, 8, 9, 10, 11, 12, 13, 14...</td>\n",
       "      <td>[4, 4, 4, 8, 8, 7, 8, 0, 10, 8, 12, 10, 14, 10...</td>\n",
       "    </tr>\n",
       "    <tr>\n",
       "      <th>3</th>\n",
       "      <td>The paws have three soft toe pads and retracti...</td>\n",
       "      <td>[The, paws, have, three, soft, toe, pads, and,...</td>\n",
       "      <td>[the, paw, have, three, soft, toe, pad, and, r...</td>\n",
       "      <td>[DET, NOUN, VERB, NUM, ADJ, NOUN, NOUN, CCONJ,...</td>\n",
       "      <td>[DT, NNS, VBP, CD, JJ, NN, NNS, CC, JJ, NNS, .]</td>\n",
       "      <td>[(paws, det), (have, nsubj), (root, root), (pa...</td>\n",
       "      <td>[Definite=Def|PronType=Art, Number=Plur, Mood=...</td>\n",
       "      <td>[1, 2, 3, 4, 5, 6, 7, 8, 9, 10, 11]</td>\n",
       "      <td>[2, 3, 0, 7, 7, 7, 3, 10, 10, 7, 3]</td>\n",
       "    </tr>\n",
       "    <tr>\n",
       "      <th>4</th>\n",
       "      <td>The stone is on the ice in front of the foot i...</td>\n",
       "      <td>[The, stone, is, on, the, ice, in, front, of, ...</td>\n",
       "      <td>[the, stone, be, on, the, ice, in, front, of, ...</td>\n",
       "      <td>[DET, NOUN, AUX, ADP, DET, NOUN, ADP, NOUN, AD...</td>\n",
       "      <td>[DT, NN, VBZ, IN, DT, NN, IN, NN, IN, DT, NN, ...</td>\n",
       "      <td>[(stone, det), (ice, nsubj), (ice, cop), (ice,...</td>\n",
       "      <td>[Definite=Def|PronType=Art, Number=Sing, Mood=...</td>\n",
       "      <td>[1, 2, 3, 4, 5, 6, 7, 8, 9, 10, 11, 12, 13, 14...</td>\n",
       "      <td>[2, 6, 6, 6, 6, 0, 8, 6, 11, 11, 8, 14, 14, 8, 6]</td>\n",
       "    </tr>\n",
       "    <tr>\n",
       "      <th>...</th>\n",
       "      <td>...</td>\n",
       "      <td>...</td>\n",
       "      <td>...</td>\n",
       "      <td>...</td>\n",
       "      <td>...</td>\n",
       "      <td>...</td>\n",
       "      <td>...</td>\n",
       "      <td>...</td>\n",
       "      <td>...</td>\n",
       "    </tr>\n",
       "    <tr>\n",
       "      <th>216180</th>\n",
       "      <td>1955 – Ashley Adams, Australian target shooter .</td>\n",
       "      <td>[1955, –, Ashley, Adams, ,, Australian, target...</td>\n",
       "      <td>[1955, -, ashley, adam, ,, australian, target,...</td>\n",
       "      <td>[NUM, PUNCT, PROPN, PROPN, PUNCT, ADJ, NOUN, N...</td>\n",
       "      <td>[CD, :, NNP, NNP, ,, JJ, NN, NN, .]</td>\n",
       "      <td>[(root, root), (1955, punct), (1955, appos), (...</td>\n",
       "      <td>[NumType=Card, _, Number=Sing, Number=Sing, _,...</td>\n",
       "      <td>[1, 2, 3, 4, 5, 6, 7, 8, 9]</td>\n",
       "      <td>[0, 1, 1, 3, 3, 8, 8, 3, 1]</td>\n",
       "    </tr>\n",
       "    <tr>\n",
       "      <th>216181</th>\n",
       "      <td>This is a casual relationship is usually only ...</td>\n",
       "      <td>[This, is, a, casual, relationship, is, usuall...</td>\n",
       "      <td>[this, be, a, casual, relationship, be, usuall...</td>\n",
       "      <td>[PRON, AUX, DET, ADJ, NOUN, AUX, ADV, ADV, ADP...</td>\n",
       "      <td>[DT, VBZ, DT, JJ, NN, VBZ, RB, RB, IN, NN, CC,...</td>\n",
       "      <td>[(relationship, nsubj), (relationship, cop), (...</td>\n",
       "      <td>[Number=Sing|PronType=Dem, Mood=Ind|Number=Sin...</td>\n",
       "      <td>[1, 2, 3, 4, 5, 6, 7, 8, 9, 10, 11, 12, 13, 14...</td>\n",
       "      <td>[5, 5, 5, 5, 10, 10, 10, 10, 10, 0, 15, 15, 15...</td>\n",
       "    </tr>\n",
       "    <tr>\n",
       "      <th>216182</th>\n",
       "      <td>It also cost about $3.9 billion.</td>\n",
       "      <td>[It, also, cost, about, $, 3.9, billion, .]</td>\n",
       "      <td>[it, also, cost, about, $, 3.9, billion, .]</td>\n",
       "      <td>[PRON, ADV, VERB, ADV, SYM, NUM, NUM, PUNCT]</td>\n",
       "      <td>[PRP, RB, VBD, RB, $, CD, CD, .]</td>\n",
       "      <td>[(cost, nsubj), (cost, advmod), (root, root), ...</td>\n",
       "      <td>[Case=Nom|Gender=Neut|Number=Sing|Person=3|Pro...</td>\n",
       "      <td>[1, 2, 3, 4, 5, 6, 7, 8]</td>\n",
       "      <td>[3, 3, 0, 5, 3, 7, 5, 3]</td>\n",
       "    </tr>\n",
       "    <tr>\n",
       "      <th>216183</th>\n",
       "      <td>1945 – Adolf Hitler marries his long-time part...</td>\n",
       "      <td>[1945, –, Adolf, Hitler, marries, his, long, -...</td>\n",
       "      <td>[1945, -, adolf, hitler, marry, he, long, -, t...</td>\n",
       "      <td>[NUM, PUNCT, PROPN, PROPN, VERB, PRON, ADJ, PU...</td>\n",
       "      <td>[CD, ,, NNP, NNP, VBZ, PRP$, JJ, HYPH, NN, NN,...</td>\n",
       "      <td>[(root, root), (1945, punct), (marries, nsubj)...</td>\n",
       "      <td>[NumType=Card, _, Number=Sing, Number=Sing, Mo...</td>\n",
       "      <td>[1, 2, 3, 4, 5, 6, 7, 8, 9, 10, 11, 12, 13, 14...</td>\n",
       "      <td>[0, 1, 5, 3, 1, 10, 9, 9, 10, 5, 12, 10, 16, 1...</td>\n",
       "    </tr>\n",
       "    <tr>\n",
       "      <th>216184</th>\n",
       "      <td>It was the second most visited city in the Uni...</td>\n",
       "      <td>[It, was, the, second, most, visited, city, in...</td>\n",
       "      <td>[it, be, the, second, most, visit, city, in, t...</td>\n",
       "      <td>[PRON, AUX, DET, ADJ, ADV, VERB, NOUN, ADP, DE...</td>\n",
       "      <td>[PRP, VBD, DT, JJ, RBS, VBN, NN, IN, DT, NNP, ...</td>\n",
       "      <td>[(city, nsubj), (city, cop), (city, det), (vis...</td>\n",
       "      <td>[Case=Nom|Gender=Neut|Number=Sing|Person=3|Pro...</td>\n",
       "      <td>[1, 2, 3, 4, 5, 6, 7, 8, 9, 10, 11, 12]</td>\n",
       "      <td>[7, 7, 7, 6, 6, 7, 0, 11, 11, 11, 7, 7]</td>\n",
       "    </tr>\n",
       "  </tbody>\n",
       "</table>\n",
       "<p>216185 rows × 9 columns</p>\n",
       "</div>"
      ],
      "text/plain": [
       "                                                 Sentence  ...                                               Head\n",
       "0       Reuven Rivlin has been the President since Jul...  ...                     [6, 1, 6, 6, 6, 0, 8, 6, 8, 6]\n",
       "1       The volcanic soil of the islands proved to be ...  ...    [3, 3, 7, 6, 6, 3, 0, 10, 10, 7, 13, 13, 10, 7]\n",
       "2       After the Sharpeville Massacre, the UN tried t...  ...  [4, 4, 4, 8, 8, 7, 8, 0, 10, 8, 12, 10, 14, 10...\n",
       "3       The paws have three soft toe pads and retracti...  ...                [2, 3, 0, 7, 7, 7, 3, 10, 10, 7, 3]\n",
       "4       The stone is on the ice in front of the foot i...  ...  [2, 6, 6, 6, 6, 0, 8, 6, 11, 11, 8, 14, 14, 8, 6]\n",
       "...                                                   ...  ...                                                ...\n",
       "216180   1955 – Ashley Adams, Australian target shooter .  ...                        [0, 1, 1, 3, 3, 8, 8, 3, 1]\n",
       "216181  This is a casual relationship is usually only ...  ...  [5, 5, 5, 5, 10, 10, 10, 10, 10, 0, 15, 15, 15...\n",
       "216182                   It also cost about $3.9 billion.  ...                           [3, 3, 0, 5, 3, 7, 5, 3]\n",
       "216183  1945 – Adolf Hitler marries his long-time part...  ...  [0, 1, 5, 3, 1, 10, 9, 9, 10, 5, 12, 10, 16, 1...\n",
       "216184  It was the second most visited city in the Uni...  ...            [7, 7, 7, 6, 6, 7, 0, 11, 11, 11, 7, 7]\n",
       "\n",
       "[216185 rows x 9 columns]"
      ]
     },
     "execution_count": 32,
     "metadata": {
      "tags": []
     },
     "output_type": "execute_result"
    }
   ],
   "source": [
    "df"
   ]
  },
  {
   "cell_type": "code",
   "execution_count": null,
   "id": "frozen-roots",
   "metadata": {
    "id": "EJEbVibb-pmE"
   },
   "outputs": [],
   "source": [
    "df.to_pickle(\".data/misc/wikipedia_sentences_parsed.pkl\")"
   ]
  },
  {
   "cell_type": "code",
   "execution_count": null,
   "id": "varying-method",
   "metadata": {
    "id": "pOGYUI_RNfBz"
   },
   "outputs": [],
   "source": []
  }
 ],
 "metadata": {
  "accelerator": "GPU",
  "colab": {
   "collapsed_sections": [],
   "name": "parse_wiki_corpus1.ipynb",
   "provenance": []
  },
  "kernelspec": {
   "display_name": "Python 3",
   "language": "python",
   "name": "python3"
  },
  "language_info": {
   "codemirror_mode": {
    "name": "ipython",
    "version": 3
   },
   "file_extension": ".py",
   "mimetype": "text/x-python",
   "name": "python",
   "nbconvert_exporter": "python",
   "pygments_lexer": "ipython3",
   "version": "3.7.3"
  },
  "widgets": {
   "application/vnd.jupyter.widget-state+json": {
    "15f05e58f0e94aefa0f6c01a98f6161b": {
     "model_module": "@jupyter-widgets/controls",
     "model_name": "HBoxModel",
     "state": {
      "_dom_classes": [],
      "_model_module": "@jupyter-widgets/controls",
      "_model_module_version": "1.5.0",
      "_model_name": "HBoxModel",
      "_view_count": null,
      "_view_module": "@jupyter-widgets/controls",
      "_view_module_version": "1.5.0",
      "_view_name": "HBoxView",
      "box_style": "",
      "children": [
       "IPY_MODEL_fd68c160d905474d9596e9367d1380b8",
       "IPY_MODEL_85ecef652ade4e4abcd944ea2461abcd"
      ],
      "layout": "IPY_MODEL_282e01788a7742ae80201d3016f35638"
     }
    },
    "282e01788a7742ae80201d3016f35638": {
     "model_module": "@jupyter-widgets/base",
     "model_name": "LayoutModel",
     "state": {
      "_model_module": "@jupyter-widgets/base",
      "_model_module_version": "1.2.0",
      "_model_name": "LayoutModel",
      "_view_count": null,
      "_view_module": "@jupyter-widgets/base",
      "_view_module_version": "1.2.0",
      "_view_name": "LayoutView",
      "align_content": null,
      "align_items": null,
      "align_self": null,
      "border": null,
      "bottom": null,
      "display": null,
      "flex": null,
      "flex_flow": null,
      "grid_area": null,
      "grid_auto_columns": null,
      "grid_auto_flow": null,
      "grid_auto_rows": null,
      "grid_column": null,
      "grid_gap": null,
      "grid_row": null,
      "grid_template_areas": null,
      "grid_template_columns": null,
      "grid_template_rows": null,
      "height": null,
      "justify_content": null,
      "justify_items": null,
      "left": null,
      "margin": null,
      "max_height": null,
      "max_width": null,
      "min_height": null,
      "min_width": null,
      "object_fit": null,
      "object_position": null,
      "order": null,
      "overflow": null,
      "overflow_x": null,
      "overflow_y": null,
      "padding": null,
      "right": null,
      "top": null,
      "visibility": null,
      "width": null
     }
    },
    "4fcb0c7374bf4f1bb379e6630a2b6014": {
     "model_module": "@jupyter-widgets/controls",
     "model_name": "ProgressStyleModel",
     "state": {
      "_model_module": "@jupyter-widgets/controls",
      "_model_module_version": "1.5.0",
      "_model_name": "ProgressStyleModel",
      "_view_count": null,
      "_view_module": "@jupyter-widgets/base",
      "_view_module_version": "1.2.0",
      "_view_name": "StyleView",
      "bar_color": null,
      "description_width": "initial"
     }
    },
    "5977f5de76674dd9be8cd5907e2baafb": {
     "model_module": "@jupyter-widgets/controls",
     "model_name": "DescriptionStyleModel",
     "state": {
      "_model_module": "@jupyter-widgets/controls",
      "_model_module_version": "1.5.0",
      "_model_name": "DescriptionStyleModel",
      "_view_count": null,
      "_view_module": "@jupyter-widgets/base",
      "_view_module_version": "1.2.0",
      "_view_name": "StyleView",
      "description_width": ""
     }
    },
    "7d648c04c78649e8b15a415dbb077aab": {
     "model_module": "@jupyter-widgets/base",
     "model_name": "LayoutModel",
     "state": {
      "_model_module": "@jupyter-widgets/base",
      "_model_module_version": "1.2.0",
      "_model_name": "LayoutModel",
      "_view_count": null,
      "_view_module": "@jupyter-widgets/base",
      "_view_module_version": "1.2.0",
      "_view_name": "LayoutView",
      "align_content": null,
      "align_items": null,
      "align_self": null,
      "border": null,
      "bottom": null,
      "display": null,
      "flex": null,
      "flex_flow": null,
      "grid_area": null,
      "grid_auto_columns": null,
      "grid_auto_flow": null,
      "grid_auto_rows": null,
      "grid_column": null,
      "grid_gap": null,
      "grid_row": null,
      "grid_template_areas": null,
      "grid_template_columns": null,
      "grid_template_rows": null,
      "height": null,
      "justify_content": null,
      "justify_items": null,
      "left": null,
      "margin": null,
      "max_height": null,
      "max_width": null,
      "min_height": null,
      "min_width": null,
      "object_fit": null,
      "object_position": null,
      "order": null,
      "overflow": null,
      "overflow_x": null,
      "overflow_y": null,
      "padding": null,
      "right": null,
      "top": null,
      "visibility": null,
      "width": null
     }
    },
    "85ecef652ade4e4abcd944ea2461abcd": {
     "model_module": "@jupyter-widgets/controls",
     "model_name": "HTMLModel",
     "state": {
      "_dom_classes": [],
      "_model_module": "@jupyter-widgets/controls",
      "_model_module_version": "1.5.0",
      "_model_name": "HTMLModel",
      "_view_count": null,
      "_view_module": "@jupyter-widgets/controls",
      "_view_module_version": "1.5.0",
      "_view_name": "HTMLView",
      "description": "",
      "description_tooltip": null,
      "layout": "IPY_MODEL_d98ef56937674e27873960dce86522d7",
      "placeholder": "​",
      "style": "IPY_MODEL_9b12567c2d624e41a5dbc3a7de6f99d8",
      "value": " 412M/412M [04:35&lt;00:00, 1.50MB/s]"
     }
    },
    "99b3f2fd25544a15b976a4c589ea45a7": {
     "model_module": "@jupyter-widgets/controls",
     "model_name": "ProgressStyleModel",
     "state": {
      "_model_module": "@jupyter-widgets/controls",
      "_model_module_version": "1.5.0",
      "_model_name": "ProgressStyleModel",
      "_view_count": null,
      "_view_module": "@jupyter-widgets/base",
      "_view_module_version": "1.2.0",
      "_view_name": "StyleView",
      "bar_color": null,
      "description_width": "initial"
     }
    },
    "9b12567c2d624e41a5dbc3a7de6f99d8": {
     "model_module": "@jupyter-widgets/controls",
     "model_name": "DescriptionStyleModel",
     "state": {
      "_model_module": "@jupyter-widgets/controls",
      "_model_module_version": "1.5.0",
      "_model_name": "DescriptionStyleModel",
      "_view_count": null,
      "_view_module": "@jupyter-widgets/base",
      "_view_module_version": "1.2.0",
      "_view_name": "StyleView",
      "description_width": ""
     }
    },
    "9bc9ed3ea68a437a84b0289adae2f45f": {
     "model_module": "@jupyter-widgets/base",
     "model_name": "LayoutModel",
     "state": {
      "_model_module": "@jupyter-widgets/base",
      "_model_module_version": "1.2.0",
      "_model_name": "LayoutModel",
      "_view_count": null,
      "_view_module": "@jupyter-widgets/base",
      "_view_module_version": "1.2.0",
      "_view_name": "LayoutView",
      "align_content": null,
      "align_items": null,
      "align_self": null,
      "border": null,
      "bottom": null,
      "display": null,
      "flex": null,
      "flex_flow": null,
      "grid_area": null,
      "grid_auto_columns": null,
      "grid_auto_flow": null,
      "grid_auto_rows": null,
      "grid_column": null,
      "grid_gap": null,
      "grid_row": null,
      "grid_template_areas": null,
      "grid_template_columns": null,
      "grid_template_rows": null,
      "height": null,
      "justify_content": null,
      "justify_items": null,
      "left": null,
      "margin": null,
      "max_height": null,
      "max_width": null,
      "min_height": null,
      "min_width": null,
      "object_fit": null,
      "object_position": null,
      "order": null,
      "overflow": null,
      "overflow_x": null,
      "overflow_y": null,
      "padding": null,
      "right": null,
      "top": null,
      "visibility": null,
      "width": null
     }
    },
    "9ea0dbb2a72d432cb23e30ab2fd46e30": {
     "model_module": "@jupyter-widgets/controls",
     "model_name": "HBoxModel",
     "state": {
      "_dom_classes": [],
      "_model_module": "@jupyter-widgets/controls",
      "_model_module_version": "1.5.0",
      "_model_name": "HBoxModel",
      "_view_count": null,
      "_view_module": "@jupyter-widgets/controls",
      "_view_module_version": "1.5.0",
      "_view_name": "HBoxView",
      "box_style": "",
      "children": [
       "IPY_MODEL_b7423f8e7d8446a584780829443eef9d",
       "IPY_MODEL_c819810b431341779a2341e67bea6bd0"
      ],
      "layout": "IPY_MODEL_7d648c04c78649e8b15a415dbb077aab"
     }
    },
    "a5086bfd81bc4393b23f3bdd5bf9ee5f": {
     "model_module": "@jupyter-widgets/base",
     "model_name": "LayoutModel",
     "state": {
      "_model_module": "@jupyter-widgets/base",
      "_model_module_version": "1.2.0",
      "_model_name": "LayoutModel",
      "_view_count": null,
      "_view_module": "@jupyter-widgets/base",
      "_view_module_version": "1.2.0",
      "_view_name": "LayoutView",
      "align_content": null,
      "align_items": null,
      "align_self": null,
      "border": null,
      "bottom": null,
      "display": null,
      "flex": null,
      "flex_flow": null,
      "grid_area": null,
      "grid_auto_columns": null,
      "grid_auto_flow": null,
      "grid_auto_rows": null,
      "grid_column": null,
      "grid_gap": null,
      "grid_row": null,
      "grid_template_areas": null,
      "grid_template_columns": null,
      "grid_template_rows": null,
      "height": null,
      "justify_content": null,
      "justify_items": null,
      "left": null,
      "margin": null,
      "max_height": null,
      "max_width": null,
      "min_height": null,
      "min_width": null,
      "object_fit": null,
      "object_position": null,
      "order": null,
      "overflow": null,
      "overflow_x": null,
      "overflow_y": null,
      "padding": null,
      "right": null,
      "top": null,
      "visibility": null,
      "width": null
     }
    },
    "b7423f8e7d8446a584780829443eef9d": {
     "model_module": "@jupyter-widgets/controls",
     "model_name": "FloatProgressModel",
     "state": {
      "_dom_classes": [],
      "_model_module": "@jupyter-widgets/controls",
      "_model_module_version": "1.5.0",
      "_model_name": "FloatProgressModel",
      "_view_count": null,
      "_view_module": "@jupyter-widgets/controls",
      "_view_module_version": "1.5.0",
      "_view_name": "ProgressView",
      "bar_style": "success",
      "description": "Downloading https://raw.githubusercontent.com/stanfordnlp/stanza-resources/main/resources_1.2.1.json: ",
      "description_tooltip": null,
      "layout": "IPY_MODEL_a5086bfd81bc4393b23f3bdd5bf9ee5f",
      "max": 23726,
      "min": 0,
      "orientation": "horizontal",
      "style": "IPY_MODEL_99b3f2fd25544a15b976a4c589ea45a7",
      "value": 23726
     }
    },
    "b76e4141b6ff4ac482767cac08f4535b": {
     "model_module": "@jupyter-widgets/base",
     "model_name": "LayoutModel",
     "state": {
      "_model_module": "@jupyter-widgets/base",
      "_model_module_version": "1.2.0",
      "_model_name": "LayoutModel",
      "_view_count": null,
      "_view_module": "@jupyter-widgets/base",
      "_view_module_version": "1.2.0",
      "_view_name": "LayoutView",
      "align_content": null,
      "align_items": null,
      "align_self": null,
      "border": null,
      "bottom": null,
      "display": null,
      "flex": null,
      "flex_flow": null,
      "grid_area": null,
      "grid_auto_columns": null,
      "grid_auto_flow": null,
      "grid_auto_rows": null,
      "grid_column": null,
      "grid_gap": null,
      "grid_row": null,
      "grid_template_areas": null,
      "grid_template_columns": null,
      "grid_template_rows": null,
      "height": null,
      "justify_content": null,
      "justify_items": null,
      "left": null,
      "margin": null,
      "max_height": null,
      "max_width": null,
      "min_height": null,
      "min_width": null,
      "object_fit": null,
      "object_position": null,
      "order": null,
      "overflow": null,
      "overflow_x": null,
      "overflow_y": null,
      "padding": null,
      "right": null,
      "top": null,
      "visibility": null,
      "width": null
     }
    },
    "c819810b431341779a2341e67bea6bd0": {
     "model_module": "@jupyter-widgets/controls",
     "model_name": "HTMLModel",
     "state": {
      "_dom_classes": [],
      "_model_module": "@jupyter-widgets/controls",
      "_model_module_version": "1.5.0",
      "_model_name": "HTMLModel",
      "_view_count": null,
      "_view_module": "@jupyter-widgets/controls",
      "_view_module_version": "1.5.0",
      "_view_name": "HTMLView",
      "description": "",
      "description_tooltip": null,
      "layout": "IPY_MODEL_b76e4141b6ff4ac482767cac08f4535b",
      "placeholder": "​",
      "style": "IPY_MODEL_5977f5de76674dd9be8cd5907e2baafb",
      "value": " 138k/? [00:00&lt;00:00, 3.09MB/s]"
     }
    },
    "d98ef56937674e27873960dce86522d7": {
     "model_module": "@jupyter-widgets/base",
     "model_name": "LayoutModel",
     "state": {
      "_model_module": "@jupyter-widgets/base",
      "_model_module_version": "1.2.0",
      "_model_name": "LayoutModel",
      "_view_count": null,
      "_view_module": "@jupyter-widgets/base",
      "_view_module_version": "1.2.0",
      "_view_name": "LayoutView",
      "align_content": null,
      "align_items": null,
      "align_self": null,
      "border": null,
      "bottom": null,
      "display": null,
      "flex": null,
      "flex_flow": null,
      "grid_area": null,
      "grid_auto_columns": null,
      "grid_auto_flow": null,
      "grid_auto_rows": null,
      "grid_column": null,
      "grid_gap": null,
      "grid_row": null,
      "grid_template_areas": null,
      "grid_template_columns": null,
      "grid_template_rows": null,
      "height": null,
      "justify_content": null,
      "justify_items": null,
      "left": null,
      "margin": null,
      "max_height": null,
      "max_width": null,
      "min_height": null,
      "min_width": null,
      "object_fit": null,
      "object_position": null,
      "order": null,
      "overflow": null,
      "overflow_x": null,
      "overflow_y": null,
      "padding": null,
      "right": null,
      "top": null,
      "visibility": null,
      "width": null
     }
    },
    "fd68c160d905474d9596e9367d1380b8": {
     "model_module": "@jupyter-widgets/controls",
     "model_name": "FloatProgressModel",
     "state": {
      "_dom_classes": [],
      "_model_module": "@jupyter-widgets/controls",
      "_model_module_version": "1.5.0",
      "_model_name": "FloatProgressModel",
      "_view_count": null,
      "_view_module": "@jupyter-widgets/controls",
      "_view_module_version": "1.5.0",
      "_view_name": "ProgressView",
      "bar_style": "success",
      "description": "Downloading http://nlp.stanford.edu/software/stanza/1.2.1/en/default.zip: 100%",
      "description_tooltip": null,
      "layout": "IPY_MODEL_9bc9ed3ea68a437a84b0289adae2f45f",
      "max": 411784510,
      "min": 0,
      "orientation": "horizontal",
      "style": "IPY_MODEL_4fcb0c7374bf4f1bb379e6630a2b6014",
      "value": 411784510
     }
    }
   }
  }
 },
 "nbformat": 4,
 "nbformat_minor": 5
}
