{
 "cells": [
  {
   "cell_type": "code",
   "execution_count": 2,
   "metadata": {
    "executionInfo": {
     "elapsed": 422,
     "status": "ok",
     "timestamp": 1623410481488,
     "user": {
      "displayName": "Plastis Theos",
      "photoUrl": "",
      "userId": "05221982976134027612"
     },
     "user_tz": -120
    },
    "id": "wi-vK_nhBiX_"
   },
   "outputs": [],
   "source": [
    "import pandas as pd\n",
    "import pickle\n",
    "import re"
   ]
  },
  {
   "cell_type": "code",
   "execution_count": 3,
   "metadata": {
    "executionInfo": {
     "elapsed": 4,
     "status": "ok",
     "timestamp": 1623410481935,
     "user": {
      "displayName": "Plastis Theos",
      "photoUrl": "",
      "userId": "05221982976134027612"
     },
     "user_tz": -120
    },
    "id": "PSaMqvMDLqBr"
   },
   "outputs": [],
   "source": [
    "# beggin with uppercase and end with strong punctuation\n",
    "def uper_punct(sentence):\n",
    "\n",
    "    strong_punct = [\".\",\"!\",\"?\"]\n",
    "    if sentence[0].isupper() and sentence[-1] in strong_punct:\n",
    "        return sentence\n",
    "    else:\n",
    "        return None"
   ]
  },
  {
   "cell_type": "code",
   "execution_count": 4,
   "metadata": {
    "executionInfo": {
     "elapsed": 4,
     "status": "ok",
     "timestamp": 1623410481936,
     "user": {
      "displayName": "Plastis Theos",
      "photoUrl": "",
      "userId": "05221982976134027612"
     },
     "user_tz": -120
    },
    "id": "igPdb1_vCUaz"
   },
   "outputs": [],
   "source": [
    "# limit the sentence size between 4 and 30 words\n",
    "def limit_length(tokens):\n",
    "    if (len(tokens) >= 4 and len(tokens) <= 30):\n",
    "        return tokens\n",
    "    else:\n",
    "        return None"
   ]
  },
  {
   "cell_type": "code",
   "execution_count": 5,
   "metadata": {
    "executionInfo": {
     "elapsed": 7,
     "status": "ok",
     "timestamp": 1623410482289,
     "user": {
      "displayName": "Plastis Theos",
      "photoUrl": "",
      "userId": "05221982976134027612"
     },
     "user_tz": -120
    },
    "id": "sRzxHuMjI34K"
   },
   "outputs": [],
   "source": [
    "# check if a dependency root and a subject exist \n",
    "def root_subj_presence(dep_list):\n",
    "  \n",
    "  dependencies = [tup2 for tup1,tup2 in dep_list]\n",
    "\n",
    "  # if a verb in finite verb form exist we keep that row\n",
    "  if ('root' in dependencies) and ('nsubj' in dependencies):\n",
    "    return dep_list\n",
    "  else:\n",
    "    return None"
   ]
  },
  {
   "cell_type": "code",
   "execution_count": 6,
   "metadata": {
    "executionInfo": {
     "elapsed": 6,
     "status": "ok",
     "timestamp": 1623410482290,
     "user": {
      "displayName": "Plastis Theos",
      "photoUrl": "",
      "userId": "05221982976134027612"
     },
     "user_tz": -120
    },
    "id": "eSEkkWZqkBJH"
   },
   "outputs": [],
   "source": [
    "# check that at least one finite verb exist\n",
    "def finite_verb(features_list):\n",
    "\n",
    "    features = ' '.join(features_list)\n",
    "\n",
    "    # if a verb in finite verb form exist we keep that row\n",
    "    if ('Fin' in features):\n",
    "        return features_list\n",
    "    else:\n",
    "        return None"
   ]
  },
  {
   "cell_type": "code",
   "execution_count": 7,
   "metadata": {
    "executionInfo": {
     "elapsed": 6,
     "status": "ok",
     "timestamp": 1623410482291,
     "user": {
      "displayName": "Plastis Theos",
      "photoUrl": "",
      "userId": "05221982976134027612"
     },
     "user_tz": -120
    },
    "id": "dxa2-owIf78R"
   },
   "outputs": [],
   "source": [
    "# context dependence based on structural connectives\n",
    "def struct_connectives(sentence, upos, dep, xpos):\n",
    "  \n",
    "    allowed_connectives = {'either':'or', 'not only':'but also','not':'but', \n",
    "                        'neither':'nor', 'such':'that', 'scarcely':'when',\n",
    "                         'as many':'as','both':'and', 'whether':'or', \n",
    "                         'just as':'so', 'the':'the', 'as':'as', 'as much':'as', \n",
    "                        'no sooner':'than', 'rather':'than'}\n",
    "\n",
    "    xpos_verbs = {\"VB\",\"VBD\",\"VBG\",\"VBN\",\"VBP\",\"VBZ\"}\n",
    "\n",
    "        # if it starts with a coordinating conjunction or a subordinating conjunction it is context depended\n",
    "        if upos[0] == 'CCONJ' or upos[0] == 'SCONJ':   \n",
    "\n",
    "            # we incorporate the xpos tags for better accuracy on identifying the verbs\n",
    "            xpos_list = ['V' if x in xpos_verbs else x for x in xpos]\n",
    "\n",
    "            # if a second clause does not exist it is context depended\n",
    "            if xpos_list.count('V')==1 and upos.count('VERB')==1 and upos.count('CCONJ')==1 and upos.count('SCONJ')==1:\n",
    "\n",
    "                # it is not context depended only in the case it starts with an allowed connective\n",
    "                allowed_flag = False\n",
    "                for k, v in allowed_connectives.items():\n",
    "                    if sentence.lower().startswith(k):    \n",
    "                        keep_key = k\n",
    "                        keep_value = v\n",
    "                        allowed_flag = True\n",
    "                        break\n",
    "\n",
    "                # if the sentence starts with an allowed connective\n",
    "                if allowed_flag:\n",
    "                    split_sent = sentence.lower().replace(keep_key,\"\")\n",
    "\n",
    "                # check whether both of the necessary connectives of an allowed connective patternt exist (to avoid sentences like: \"Both went there.\")\n",
    "                if keep_value in split_sent:\n",
    "                    return sentence\n",
    "                else:\n",
    "                    return None\n",
    "\n",
    "        else:\n",
    "            return None\n",
    "\n",
    "    return sentence"
   ]
  },
  {
   "cell_type": "code",
   "execution_count": 8,
   "metadata": {
    "executionInfo": {
     "elapsed": 4,
     "status": "ok",
     "timestamp": 1623410482601,
     "user": {
      "displayName": "Plastis Theos",
      "photoUrl": "",
      "userId": "05221982976134027612"
     },
     "user_tz": -120
    },
    "id": "YaIakKygTEHh"
   },
   "outputs": [],
   "source": [
    "# context dependence based on pronominal anaphora\n",
    "def pronom_anaphora(sentence, upos, dependency, features, head):\n",
    "\n",
    "    # in case there is no pronoun in the sentence, the sentence is ignored\n",
    "    if 'PRON' in upos:\n",
    "\n",
    "        # obtain all the indices from all the existing pronouns third person singular pronouns and demonstrative pronouns in the sentence\n",
    "        pron_indices = [i for i, feat in enumerate(features) if ('|Gender=Neut|Number=Sing|Person=3|PronType=Prs' in feat) or ('PronType=Dem' in feat)]\n",
    "\n",
    "        if pron_indices:\n",
    "            for pron in pron_indices:\n",
    "\n",
    "                # if 'which' is following after such a pronoun (indication of a relative clause starting with it), we consider no-anaphora\n",
    "                if ('which' in sentence.lower()[pron:]):\n",
    "                    return sentence\n",
    "\n",
    "        # in case only a third person singular pronoun exist\n",
    "        elif any('|Gender=Neut|Number=Sing|Person=3|PronType=Prs' in feat for feat in features):\n",
    "\n",
    "            pron_indices = [i for i, feat in enumerate(features) if '|Gender=Neut|Number=Sing|Person=3|PronType=Prs' in feat]\n",
    "\n",
    "            # we examine whether the occurence of that pronoun is pleonastic, in which case there is no context-dependence\n",
    "            if any(dep[1] == 'expl' for dep in dependency):\n",
    "                expl_indices = [i for i, dep in enumerate(dependency) if dep[1] == 'expl']\n",
    "\n",
    "                for expl in expl_indices:\n",
    "                  # if a pleonastic (expletive) relation exist and it does not directed to the target pronoun, we discard the sentence\n",
    "                  if not any(head[expl]== pron_index for pron_index in pron_indices):\n",
    "                    return None\n",
    "                  else:\n",
    "                    return sentence\n",
    "            else:\n",
    "                return None\n",
    "\n",
    "        # if only a demonstrative pronoun exist, the sentence is context-depended\n",
    "        elif any('PronType=Dem' in feat for feat in features):\n",
    "            return None\n",
    "\n",
    "    return sentence"
   ]
  },
  {
   "cell_type": "code",
   "execution_count": 9,
   "metadata": {
    "executionInfo": {
     "elapsed": 4,
     "status": "ok",
     "timestamp": 1623410482602,
     "user": {
      "displayName": "Plastis Theos",
      "photoUrl": "",
      "userId": "05221982976134027612"
     },
     "user_tz": -120
    },
    "id": "WxO5f4DaOFzh"
   },
   "outputs": [],
   "source": [
    "def execute_selection(data):\n",
    "\n",
    "    # beggin with uppercase and end with strong punctuation\n",
    "    data['Sentence'] = data['Sentence'].apply(uper_punct)\n",
    "    data = data.dropna()\n",
    "\n",
    "    # limit the sentence size between 4 and 25 words\n",
    "    data['Tokens'] = data['Tokens'].apply(limit_length)\n",
    "    data = data.dropna()\n",
    "\n",
    "    # check if a dependency root and a subject exist \n",
    "    data['Dependency'] = data['Dependency'].apply(root_subj_presence)\n",
    "    data = data.dropna()\n",
    "\n",
    "    # check that at least one finite verb exist\n",
    "    data['Features'] = data['Features'].apply(finite_verb)\n",
    "    data = data.dropna()\n",
    "\n",
    "    # context dependence based on structural connectives\n",
    "    data[\"Sentence\"] = data[[\"Sentence\", \"Upos\", \"Dependency\", \"Xpos\"]].apply(lambda x : struct_connectives(*x), axis=1)\n",
    "    data = data.dropna()\n",
    "\n",
    "    # context dependence based on pronominal anaphora\n",
    "    data[\"Sentence\"] = data[[\"Sentence\", \"Upos\", \"Dependency\", \"Features\", \"Head\"]].apply(lambda x : pronom_anaphora(*x), axis=1)\n",
    "    data = data.dropna()\n",
    "\n",
    "    return data"
   ]
  },
  {
   "cell_type": "markdown",
   "metadata": {
    "id": "ekAzOcj8e7pu"
   },
   "source": [
    "## Best sentences selection on Wikipedia corpus"
   ]
  },
  {
   "cell_type": "code",
   "execution_count": 10,
   "metadata": {
    "colab": {
     "base_uri": "https://localhost:8080/"
    },
    "executionInfo": {
     "elapsed": 12204,
     "status": "ok",
     "timestamp": 1623410495045,
     "user": {
      "displayName": "Plastis Theos",
      "photoUrl": "",
      "userId": "05221982976134027612"
     },
     "user_tz": -120
    },
    "id": "orB8GbqQqkI2",
    "outputId": "1c9877d7-ad1e-4a93-dba5-bf8c4e0a5956"
   },
   "outputs": [
    {
     "name": "stderr",
     "output_type": "stream",
     "text": [
      "/usr/local/lib/python3.7/dist-packages/ipykernel_launcher.py:8: SettingWithCopyWarning: \n",
      "A value is trying to be set on a copy of a slice from a DataFrame.\n",
      "Try using .loc[row_indexer,col_indexer] = value instead\n",
      "\n",
      "See the caveats in the documentation: https://pandas.pydata.org/pandas-docs/stable/user_guide/indexing.html#returning-a-view-versus-a-copy\n",
      "  \n"
     ]
    }
   ],
   "source": [
    "wiki_data = pd.read_pickle(\"./data/misc/wikipedia_sentences_parsed.pkl\")\n",
    "clean_wiki_frame = execute_selection(wiki_data)"
   ]
  },
  {
   "cell_type": "code",
   "execution_count": 11,
   "metadata": {
    "executionInfo": {
     "elapsed": 5332,
     "status": "ok",
     "timestamp": 1623410500374,
     "user": {
      "displayName": "Plastis Theos",
      "photoUrl": "",
      "userId": "05221982976134027612"
     },
     "user_tz": -120
    },
    "id": "CSJLZf-8nrVj"
   },
   "outputs": [],
   "source": [
    "clean_wiki_frame.to_pickle(\"./data/misc/wikipedia_sentences_parsed_selection.pkl\")"
   ]
  },
  {
   "cell_type": "code",
   "execution_count": 12,
   "metadata": {
    "colab": {
     "base_uri": "https://localhost:8080/",
     "height": 927
    },
    "executionInfo": {
     "elapsed": 29,
     "status": "ok",
     "timestamp": 1623410500386,
     "user": {
      "displayName": "Plastis Theos",
      "photoUrl": "",
      "userId": "05221982976134027612"
     },
     "user_tz": -120
    },
    "id": "7NnzkzhMn7GN",
    "outputId": "315d4036-ca48-415b-ffb1-b9fe7f961571"
   },
   "outputs": [
    {
     "data": {
      "text/html": [
       "<div>\n",
       "<style scoped>\n",
       "    .dataframe tbody tr th:only-of-type {\n",
       "        vertical-align: middle;\n",
       "    }\n",
       "\n",
       "    .dataframe tbody tr th {\n",
       "        vertical-align: top;\n",
       "    }\n",
       "\n",
       "    .dataframe thead th {\n",
       "        text-align: right;\n",
       "    }\n",
       "</style>\n",
       "<table border=\"1\" class=\"dataframe\">\n",
       "  <thead>\n",
       "    <tr style=\"text-align: right;\">\n",
       "      <th></th>\n",
       "      <th>Sentence</th>\n",
       "      <th>Tokens</th>\n",
       "      <th>Lemma</th>\n",
       "      <th>Upos</th>\n",
       "      <th>Xpos</th>\n",
       "      <th>Dependency</th>\n",
       "      <th>Features</th>\n",
       "      <th>id</th>\n",
       "      <th>Head</th>\n",
       "    </tr>\n",
       "  </thead>\n",
       "  <tbody>\n",
       "    <tr>\n",
       "      <th>0</th>\n",
       "      <td>Reuven Rivlin has been the President since Jul...</td>\n",
       "      <td>[Reuven, Rivlin, has, been, the, President, si...</td>\n",
       "      <td>[reuven, rivlin, have, be, the, president, sin...</td>\n",
       "      <td>[PROPN, PROPN, AUX, AUX, DET, NOUN, ADP, PROPN...</td>\n",
       "      <td>[NNP, NNP, VBZ, VBN, DT, NN, IN, NNP, CD, .]</td>\n",
       "      <td>[(president, nsubj), (reuven, flat), (presiden...</td>\n",
       "      <td>[Number=Sing, Number=Sing, Mood=Ind|Number=Sin...</td>\n",
       "      <td>[1, 2, 3, 4, 5, 6, 7, 8, 9, 10]</td>\n",
       "      <td>[6, 1, 6, 6, 6, 0, 8, 6, 8, 6]</td>\n",
       "    </tr>\n",
       "    <tr>\n",
       "      <th>1</th>\n",
       "      <td>The volcanic soil of the islands proved to be ...</td>\n",
       "      <td>[The, volcanic, soil, of, the, islands, proved...</td>\n",
       "      <td>[the, volcanic, soil, of, the, island, prove, ...</td>\n",
       "      <td>[DET, ADJ, NOUN, ADP, DET, NOUN, VERB, PART, A...</td>\n",
       "      <td>[DT, JJ, NN, IN, DT, NNS, VBD, TO, VB, JJ, IN,...</td>\n",
       "      <td>[(soil, det), (soil, amod), (proved, nsubj), (...</td>\n",
       "      <td>[Definite=Def|PronType=Art, Degree=Pos, Number...</td>\n",
       "      <td>[1, 2, 3, 4, 5, 6, 7, 8, 9, 10, 11, 12, 13, 14]</td>\n",
       "      <td>[3, 3, 7, 6, 6, 3, 0, 10, 10, 7, 13, 13, 10, 7]</td>\n",
       "    </tr>\n",
       "    <tr>\n",
       "      <th>2</th>\n",
       "      <td>After the Sharpeville Massacre, the UN tried t...</td>\n",
       "      <td>[After, the, Sharpeville, Massacre, ,, the, UN...</td>\n",
       "      <td>[after, the, sharpeville, massacre, ,, the, un...</td>\n",
       "      <td>[ADP, DET, ADJ, NOUN, PUNCT, DET, PROPN, VERB,...</td>\n",
       "      <td>[IN, DT, JJ, NN, ,, DT, NNP, VBD, TO, VB, JJ, ...</td>\n",
       "      <td>[(massacre, case), (massacre, det), (massacre,...</td>\n",
       "      <td>[_, Definite=Def|PronType=Art, Degree=Pos, Num...</td>\n",
       "      <td>[1, 2, 3, 4, 5, 6, 7, 8, 9, 10, 11, 12, 13, 14...</td>\n",
       "      <td>[4, 4, 4, 8, 8, 7, 8, 0, 10, 8, 12, 10, 14, 10...</td>\n",
       "    </tr>\n",
       "    <tr>\n",
       "      <th>3</th>\n",
       "      <td>The paws have three soft toe pads and retracti...</td>\n",
       "      <td>[The, paws, have, three, soft, toe, pads, and,...</td>\n",
       "      <td>[the, paw, have, three, soft, toe, pad, and, r...</td>\n",
       "      <td>[DET, NOUN, VERB, NUM, ADJ, NOUN, NOUN, CCONJ,...</td>\n",
       "      <td>[DT, NNS, VBP, CD, JJ, NN, NNS, CC, JJ, NNS, .]</td>\n",
       "      <td>[(paws, det), (have, nsubj), (root, root), (pa...</td>\n",
       "      <td>[Definite=Def|PronType=Art, Number=Plur, Mood=...</td>\n",
       "      <td>[1, 2, 3, 4, 5, 6, 7, 8, 9, 10, 11]</td>\n",
       "      <td>[2, 3, 0, 7, 7, 7, 3, 10, 10, 7, 3]</td>\n",
       "    </tr>\n",
       "    <tr>\n",
       "      <th>4</th>\n",
       "      <td>The stone is on the ice in front of the foot i...</td>\n",
       "      <td>[The, stone, is, on, the, ice, in, front, of, ...</td>\n",
       "      <td>[the, stone, be, on, the, ice, in, front, of, ...</td>\n",
       "      <td>[DET, NOUN, AUX, ADP, DET, NOUN, ADP, NOUN, AD...</td>\n",
       "      <td>[DT, NN, VBZ, IN, DT, NN, IN, NN, IN, DT, NN, ...</td>\n",
       "      <td>[(stone, det), (ice, nsubj), (ice, cop), (ice,...</td>\n",
       "      <td>[Definite=Def|PronType=Art, Number=Sing, Mood=...</td>\n",
       "      <td>[1, 2, 3, 4, 5, 6, 7, 8, 9, 10, 11, 12, 13, 14...</td>\n",
       "      <td>[2, 6, 6, 6, 6, 0, 8, 6, 11, 11, 8, 14, 14, 8, 6]</td>\n",
       "    </tr>\n",
       "    <tr>\n",
       "      <th>...</th>\n",
       "      <td>...</td>\n",
       "      <td>...</td>\n",
       "      <td>...</td>\n",
       "      <td>...</td>\n",
       "      <td>...</td>\n",
       "      <td>...</td>\n",
       "      <td>...</td>\n",
       "      <td>...</td>\n",
       "      <td>...</td>\n",
       "    </tr>\n",
       "    <tr>\n",
       "      <th>216178</th>\n",
       "      <td>In a few other dictatorships, such as Saudi Ar...</td>\n",
       "      <td>[In, a, few, other, dictatorships, ,, such, as...</td>\n",
       "      <td>[in, a, few, other, dictatorship, ,, such, as,...</td>\n",
       "      <td>[ADP, DET, ADJ, ADJ, NOUN, PUNCT, ADJ, ADP, AD...</td>\n",
       "      <td>[IN, DT, JJ, JJ, NNS, ,, JJ, IN, JJ, NNP, ,, D...</td>\n",
       "      <td>[(dictatorships, case), (dictatorships, det), ...</td>\n",
       "      <td>[_, Definite=Ind|PronType=Art, Degree=Pos, Deg...</td>\n",
       "      <td>[1, 2, 3, 4, 5, 6, 7, 8, 9, 10, 11, 12, 13, 14...</td>\n",
       "      <td>[5, 5, 5, 5, 16, 5, 10, 7, 10, 5, 16, 14, 14, ...</td>\n",
       "    </tr>\n",
       "    <tr>\n",
       "      <th>216179</th>\n",
       "      <td>Abstract art is modern art which does not repr...</td>\n",
       "      <td>[Abstract, art, is, modern, art, which, does, ...</td>\n",
       "      <td>[abstract, art, be, modern, art, which, do, no...</td>\n",
       "      <td>[ADJ, NOUN, AUX, ADJ, NOUN, PRON, AUX, PART, V...</td>\n",
       "      <td>[JJ, NN, VBZ, JJ, NN, WDT, VBZ, RB, VB, NNS, I...</td>\n",
       "      <td>[(art, amod), (art, nsubj), (art, cop), (art, ...</td>\n",
       "      <td>[Degree=Pos, Number=Sing, Mood=Ind|Number=Sing...</td>\n",
       "      <td>[1, 2, 3, 4, 5, 6, 7, 8, 9, 10, 11, 12, 13, 14...</td>\n",
       "      <td>[2, 5, 5, 5, 0, 9, 9, 9, 5, 9, 14, 14, 14, 10, 5]</td>\n",
       "    </tr>\n",
       "    <tr>\n",
       "      <th>216181</th>\n",
       "      <td>This is a casual relationship is usually only ...</td>\n",
       "      <td>[This, is, a, casual, relationship, is, usuall...</td>\n",
       "      <td>[this, be, a, casual, relationship, be, usuall...</td>\n",
       "      <td>[PRON, AUX, DET, ADJ, NOUN, AUX, ADV, ADV, ADP...</td>\n",
       "      <td>[DT, VBZ, DT, JJ, NN, VBZ, RB, RB, IN, NN, CC,...</td>\n",
       "      <td>[(relationship, nsubj), (relationship, cop), (...</td>\n",
       "      <td>[Number=Sing|PronType=Dem, Mood=Ind|Number=Sin...</td>\n",
       "      <td>[1, 2, 3, 4, 5, 6, 7, 8, 9, 10, 11, 12, 13, 14...</td>\n",
       "      <td>[5, 5, 5, 5, 10, 10, 10, 10, 10, 0, 15, 15, 15...</td>\n",
       "    </tr>\n",
       "    <tr>\n",
       "      <th>216182</th>\n",
       "      <td>It also cost about $3.9 billion.</td>\n",
       "      <td>[It, also, cost, about, $, 3.9, billion, .]</td>\n",
       "      <td>[it, also, cost, about, $, 3.9, billion, .]</td>\n",
       "      <td>[PRON, ADV, VERB, ADV, SYM, NUM, NUM, PUNCT]</td>\n",
       "      <td>[PRP, RB, VBD, RB, $, CD, CD, .]</td>\n",
       "      <td>[(cost, nsubj), (cost, advmod), (root, root), ...</td>\n",
       "      <td>[Case=Nom|Gender=Neut|Number=Sing|Person=3|Pro...</td>\n",
       "      <td>[1, 2, 3, 4, 5, 6, 7, 8]</td>\n",
       "      <td>[3, 3, 0, 5, 3, 7, 5, 3]</td>\n",
       "    </tr>\n",
       "    <tr>\n",
       "      <th>216184</th>\n",
       "      <td>It was the second most visited city in the Uni...</td>\n",
       "      <td>[It, was, the, second, most, visited, city, in...</td>\n",
       "      <td>[it, be, the, second, most, visit, city, in, t...</td>\n",
       "      <td>[PRON, AUX, DET, ADJ, ADV, VERB, NOUN, ADP, DE...</td>\n",
       "      <td>[PRP, VBD, DT, JJ, RBS, VBN, NN, IN, DT, NNP, ...</td>\n",
       "      <td>[(city, nsubj), (city, cop), (city, det), (vis...</td>\n",
       "      <td>[Case=Nom|Gender=Neut|Number=Sing|Person=3|Pro...</td>\n",
       "      <td>[1, 2, 3, 4, 5, 6, 7, 8, 9, 10, 11, 12]</td>\n",
       "      <td>[7, 7, 7, 6, 6, 7, 0, 11, 11, 11, 7, 7]</td>\n",
       "    </tr>\n",
       "  </tbody>\n",
       "</table>\n",
       "<p>164409 rows × 9 columns</p>\n",
       "</div>"
      ],
      "text/plain": [
       "                                                 Sentence  ...                                               Head\n",
       "0       Reuven Rivlin has been the President since Jul...  ...                     [6, 1, 6, 6, 6, 0, 8, 6, 8, 6]\n",
       "1       The volcanic soil of the islands proved to be ...  ...    [3, 3, 7, 6, 6, 3, 0, 10, 10, 7, 13, 13, 10, 7]\n",
       "2       After the Sharpeville Massacre, the UN tried t...  ...  [4, 4, 4, 8, 8, 7, 8, 0, 10, 8, 12, 10, 14, 10...\n",
       "3       The paws have three soft toe pads and retracti...  ...                [2, 3, 0, 7, 7, 7, 3, 10, 10, 7, 3]\n",
       "4       The stone is on the ice in front of the foot i...  ...  [2, 6, 6, 6, 6, 0, 8, 6, 11, 11, 8, 14, 14, 8, 6]\n",
       "...                                                   ...  ...                                                ...\n",
       "216178  In a few other dictatorships, such as Saudi Ar...  ...  [5, 5, 5, 5, 16, 5, 10, 7, 10, 5, 16, 14, 14, ...\n",
       "216179  Abstract art is modern art which does not repr...  ...  [2, 5, 5, 5, 0, 9, 9, 9, 5, 9, 14, 14, 14, 10, 5]\n",
       "216181  This is a casual relationship is usually only ...  ...  [5, 5, 5, 5, 10, 10, 10, 10, 10, 0, 15, 15, 15...\n",
       "216182                   It also cost about $3.9 billion.  ...                           [3, 3, 0, 5, 3, 7, 5, 3]\n",
       "216184  It was the second most visited city in the Uni...  ...            [7, 7, 7, 6, 6, 7, 0, 11, 11, 11, 7, 7]\n",
       "\n",
       "[164409 rows x 9 columns]"
      ]
     },
     "execution_count": 12,
     "metadata": {
      "tags": []
     },
     "output_type": "execute_result"
    }
   ],
   "source": [
    "clean_wiki_frame"
   ]
  },
  {
   "cell_type": "markdown",
   "metadata": {
    "id": "dH1MdZ1efExT"
   },
   "source": [
    "## Best sentences selection on BNC corpus"
   ]
  },
  {
   "cell_type": "code",
   "execution_count": 16,
   "metadata": {
    "colab": {
     "base_uri": "https://localhost:8080/"
    },
    "executionInfo": {
     "elapsed": 9884,
     "status": "ok",
     "timestamp": 1623410646602,
     "user": {
      "displayName": "Plastis Theos",
      "photoUrl": "",
      "userId": "05221982976134027612"
     },
     "user_tz": -120
    },
    "id": "pZAxxWKcn6ow",
    "outputId": "85682d2f-0397-4309-b980-5a278ba3398b"
   },
   "outputs": [
    {
     "name": "stderr",
     "output_type": "stream",
     "text": [
      "/usr/local/lib/python3.7/dist-packages/ipykernel_launcher.py:8: SettingWithCopyWarning: \n",
      "A value is trying to be set on a copy of a slice from a DataFrame.\n",
      "Try using .loc[row_indexer,col_indexer] = value instead\n",
      "\n",
      "See the caveats in the documentation: https://pandas.pydata.org/pandas-docs/stable/user_guide/indexing.html#returning-a-view-versus-a-copy\n",
      "  \n"
     ]
    }
   ],
   "source": [
    "bnc_data = pd.read_pickle(\"./data/misc/bnc_sentences_parsed.pkl\")\n",
    "clean_bnc_frame = execute_selection(bnc_data)"
   ]
  },
  {
   "cell_type": "code",
   "execution_count": 18,
   "metadata": {
    "executionInfo": {
     "elapsed": 2799,
     "status": "ok",
     "timestamp": 1623410701273,
     "user": {
      "displayName": "Plastis Theos",
      "photoUrl": "",
      "userId": "05221982976134027612"
     },
     "user_tz": -120
    },
    "id": "Tobkf4yWfTbu"
   },
   "outputs": [],
   "source": [
    "clean_bnc_frame.to_pickle(\"./data/misc/bnc_sentences_parsed_selection.pkl\")"
   ]
  },
  {
   "cell_type": "code",
   "execution_count": 19,
   "metadata": {
    "colab": {
     "base_uri": "https://localhost:8080/",
     "height": 945
    },
    "executionInfo": {
     "elapsed": 265,
     "status": "ok",
     "timestamp": 1623410703353,
     "user": {
      "displayName": "Plastis Theos",
      "photoUrl": "",
      "userId": "05221982976134027612"
     },
     "user_tz": -120
    },
    "id": "dn0isgTJfXlb",
    "outputId": "cb895967-d443-4bd3-ce07-8f59e8d4b21c"
   },
   "outputs": [
    {
     "data": {
      "text/html": [
       "<div>\n",
       "<style scoped>\n",
       "    .dataframe tbody tr th:only-of-type {\n",
       "        vertical-align: middle;\n",
       "    }\n",
       "\n",
       "    .dataframe tbody tr th {\n",
       "        vertical-align: top;\n",
       "    }\n",
       "\n",
       "    .dataframe thead th {\n",
       "        text-align: right;\n",
       "    }\n",
       "</style>\n",
       "<table border=\"1\" class=\"dataframe\">\n",
       "  <thead>\n",
       "    <tr style=\"text-align: right;\">\n",
       "      <th></th>\n",
       "      <th>Sentence</th>\n",
       "      <th>Tokens</th>\n",
       "      <th>Lemma</th>\n",
       "      <th>Upos</th>\n",
       "      <th>Xpos</th>\n",
       "      <th>Dependency</th>\n",
       "      <th>Features</th>\n",
       "      <th>id</th>\n",
       "      <th>Head</th>\n",
       "    </tr>\n",
       "  </thead>\n",
       "  <tbody>\n",
       "    <tr>\n",
       "      <th>0</th>\n",
       "      <td>The interaction of long chain molecules with l...</td>\n",
       "      <td>[The, interaction, of, long, chain, molecules,...</td>\n",
       "      <td>[the, interaction, of, long, chain, molecule, ...</td>\n",
       "      <td>[DET, NOUN, ADP, ADJ, NOUN, NOUN, ADP, NOUN, A...</td>\n",
       "      <td>[DT, NN, IN, JJ, NN, NNS, IN, NNS, VBZ, IN, JJ...</td>\n",
       "      <td>[(interaction, det), (interest, nsubj), (molec...</td>\n",
       "      <td>[Definite=Def|PronType=Art, Number=Sing, _, De...</td>\n",
       "      <td>[1, 2, 3, 4, 5, 6, 7, 8, 9, 10, 11, 12, 13, 14...</td>\n",
       "      <td>[2, 12, 6, 6, 6, 2, 8, 6, 12, 12, 12, 0, 19, 1...</td>\n",
       "    </tr>\n",
       "    <tr>\n",
       "      <th>1</th>\n",
       "      <td>When an amorphous polymer is mixed with a suit...</td>\n",
       "      <td>[When, an, amorphous, polymer, is, mixed, with...</td>\n",
       "      <td>[when, a, amorphous, polymer, be, mix, with, a...</td>\n",
       "      <td>[SCONJ, DET, ADJ, NOUN, AUX, VERB, ADP, DET, A...</td>\n",
       "      <td>[WRB, DT, JJ, NN, VBZ, VBN, IN, DT, JJ, NN, ,,...</td>\n",
       "      <td>[(mixed, mark), (polymer, det), (polymer, amod...</td>\n",
       "      <td>[PronType=Int, Definite=Ind|PronType=Art, Degr...</td>\n",
       "      <td>[1, 2, 3, 4, 5, 6, 7, 8, 9, 10, 11, 12, 13, 14...</td>\n",
       "      <td>[6, 4, 4, 6, 6, 13, 10, 10, 10, 6, 13, 13, 0, ...</td>\n",
       "    </tr>\n",
       "    <tr>\n",
       "      <th>2</th>\n",
       "      <td>In a ' poor ' solvent, the interactions are fe...</td>\n",
       "      <td>[In, a, ', poor, ', solvent, ,, the, interacti...</td>\n",
       "      <td>[in, a, ', poor, ', solvent, ,, the, interacti...</td>\n",
       "      <td>[ADP, DET, PUNCT, ADJ, PUNCT, NOUN, PUNCT, DET...</td>\n",
       "      <td>[IN, DT, ``, JJ, '', NN, ,, DT, NNS, VBP, JJR,...</td>\n",
       "      <td>[(solvent, case), (solvent, det), (solvent, pu...</td>\n",
       "      <td>[_, Definite=Ind|PronType=Art, _, Degree=Pos, ...</td>\n",
       "      <td>[1, 2, 3, 4, 5, 6, 7, 8, 9, 10, 11, 12, 13, 14...</td>\n",
       "      <td>[6, 6, 6, 6, 6, 11, 11, 9, 11, 11, 0, 18, 14, ...</td>\n",
       "    </tr>\n",
       "    <tr>\n",
       "      <th>3</th>\n",
       "      <td>The fundamental thermodynamic equation used to...</td>\n",
       "      <td>[The, fundamental, thermodynamic, equation, us...</td>\n",
       "      <td>[the, fundamental, thermodynamic, equation, us...</td>\n",
       "      <td>[DET, ADJ, ADJ, NOUN, VERB, PART, VERB, DET, N...</td>\n",
       "      <td>[DT, JJ, JJ, NN, VBN, TO, VB, DT, NNS, VBZ, DT...</td>\n",
       "      <td>[(equation, det), (equation, amod), (equation,...</td>\n",
       "      <td>[Definite=Def|PronType=Art, Degree=Pos, Degree...</td>\n",
       "      <td>[1, 2, 3, 4, 5, 6, 7, 8, 9, 10, 11, 12, 13, 14...</td>\n",
       "      <td>[4, 4, 4, 10, 4, 7, 5, 9, 7, 0, 16, 16, 16, 15...</td>\n",
       "    </tr>\n",
       "    <tr>\n",
       "      <th>4</th>\n",
       "      <td>This is valid only for components of comparabl...</td>\n",
       "      <td>[This, is, valid, only, for, components, of, c...</td>\n",
       "      <td>[this, be, valid, only, for, component, of, co...</td>\n",
       "      <td>[PRON, AUX, ADJ, ADV, ADP, NOUN, ADP, ADJ, NOU...</td>\n",
       "      <td>[DT, VBZ, JJ, RB, IN, NNS, IN, JJ, NN, ,, CC, ...</td>\n",
       "      <td>[(valid, nsubj), (valid, cop), (root, root), (...</td>\n",
       "      <td>[Number=Sing|PronType=Dem, Mood=Ind|Number=Sin...</td>\n",
       "      <td>[1, 2, 3, 4, 5, 6, 7, 8, 9, 10, 11, 12, 13, 14...</td>\n",
       "      <td>[3, 3, 0, 6, 6, 3, 9, 9, 6, 24, 24, 24, 15, 15...</td>\n",
       "    </tr>\n",
       "    <tr>\n",
       "      <th>...</th>\n",
       "      <td>...</td>\n",
       "      <td>...</td>\n",
       "      <td>...</td>\n",
       "      <td>...</td>\n",
       "      <td>...</td>\n",
       "      <td>...</td>\n",
       "      <td>...</td>\n",
       "      <td>...</td>\n",
       "      <td>...</td>\n",
       "    </tr>\n",
       "    <tr>\n",
       "      <th>197201</th>\n",
       "      <td>Nonetheless I must stand my ground and restate...</td>\n",
       "      <td>[Nonetheless, I, must, stand, my, ground, and,...</td>\n",
       "      <td>[nonetheless, I, must, stand, my, ground, and,...</td>\n",
       "      <td>[ADV, PRON, AUX, VERB, PRON, NOUN, CCONJ, VERB...</td>\n",
       "      <td>[RB, PRP, MD, VB, PRP$, NN, CC, VB, IN, RB, RB...</td>\n",
       "      <td>[(stand, advmod), (stand, nsubj), (stand, aux)...</td>\n",
       "      <td>[_, Case=Nom|Number=Sing|Person=1|PronType=Prs...</td>\n",
       "      <td>[1, 2, 3, 4, 5, 6, 7, 8, 9, 10, 11, 12, 13, 14...</td>\n",
       "      <td>[4, 4, 4, 0, 6, 4, 8, 4, 14, 14, 14, 14, 14, 8...</td>\n",
       "    </tr>\n",
       "    <tr>\n",
       "      <th>197202</th>\n",
       "      <td>How much longer will everyone ignore this phen...</td>\n",
       "      <td>[How, much, longer, will, everyone, ignore, th...</td>\n",
       "      <td>[how, much, long, will, everyone, ignore, this...</td>\n",
       "      <td>[ADV, ADV, ADV, AUX, PRON, VERB, DET, NOUN, PU...</td>\n",
       "      <td>[WRB, RB, RBR, MD, NN, VB, DT, NN, .]</td>\n",
       "      <td>[(much, advmod), (longer, advmod), (ignore, ad...</td>\n",
       "      <td>[PronType=Int, Degree=Pos, Degree=Cmp, VerbFor...</td>\n",
       "      <td>[1, 2, 3, 4, 5, 6, 7, 8, 9]</td>\n",
       "      <td>[2, 3, 6, 6, 6, 0, 8, 6, 6]</td>\n",
       "    </tr>\n",
       "    <tr>\n",
       "      <th>197204</th>\n",
       "      <td>If so, it shows the town suffering more than i...</td>\n",
       "      <td>[If, so, ,, it, shows, the, town, suffering, m...</td>\n",
       "      <td>[if, so, ,, it, show, the, town, suffer, more,...</td>\n",
       "      <td>[SCONJ, ADV, PUNCT, PRON, VERB, DET, NOUN, VER...</td>\n",
       "      <td>[IN, RB, ,, PRP, VBZ, DT, NN, VBG, JJR, IN, PR...</td>\n",
       "      <td>[(so, mark), (shows, advcl), (shows, punct), (...</td>\n",
       "      <td>[_, _, _, Case=Nom|Gender=Neut|Number=Sing|Per...</td>\n",
       "      <td>[1, 2, 3, 4, 5, 6, 7, 8, 9, 10, 11, 12, 13, 14...</td>\n",
       "      <td>[2, 5, 5, 5, 0, 7, 5, 7, 8, 13, 13, 13, 8, 17,...</td>\n",
       "    </tr>\n",
       "    <tr>\n",
       "      <th>197205</th>\n",
       "      <td>I doubt if many Scottish historians would take...</td>\n",
       "      <td>[I, doubt, if, many, Scottish, historians, wou...</td>\n",
       "      <td>[I, doubt, if, many, scottish, historian, woul...</td>\n",
       "      <td>[PRON, VERB, SCONJ, ADJ, ADJ, NOUN, AUX, VERB,...</td>\n",
       "      <td>[PRP, VBP, IN, JJ, JJ, NNS, MD, VB, DT, NN, RB...</td>\n",
       "      <td>[(doubt, nsubj), (root, root), (take, mark), (...</td>\n",
       "      <td>[Case=Nom|Number=Sing|Person=1|PronType=Prs, M...</td>\n",
       "      <td>[1, 2, 3, 4, 5, 6, 7, 8, 9, 10, 11, 12]</td>\n",
       "      <td>[2, 0, 8, 6, 6, 8, 8, 2, 10, 8, 8, 2]</td>\n",
       "    </tr>\n",
       "    <tr>\n",
       "      <th>197206</th>\n",
       "      <td>Well, that 's one kind of civilisation ; maybe.</td>\n",
       "      <td>[Well, ,, that, 's, one, kind, of, civilisatio...</td>\n",
       "      <td>[well, ,, that, be, one, kind, of, civilisatio...</td>\n",
       "      <td>[INTJ, PUNCT, PRON, AUX, NUM, NOUN, ADP, NOUN,...</td>\n",
       "      <td>[UH, ,, DT, VBZ, CD, NN, IN, NN, :, RB, .]</td>\n",
       "      <td>[(kind, discourse), (kind, punct), (kind, nsub...</td>\n",
       "      <td>[_, _, Number=Sing|PronType=Dem, Mood=Ind|Numb...</td>\n",
       "      <td>[1, 2, 3, 4, 5, 6, 7, 8, 9, 10, 11]</td>\n",
       "      <td>[6, 6, 6, 6, 6, 0, 8, 6, 10, 6, 6]</td>\n",
       "    </tr>\n",
       "  </tbody>\n",
       "</table>\n",
       "<p>114899 rows × 9 columns</p>\n",
       "</div>"
      ],
      "text/plain": [
       "                                                 Sentence  ...                                               Head\n",
       "0       The interaction of long chain molecules with l...  ...  [2, 12, 6, 6, 6, 2, 8, 6, 12, 12, 12, 0, 19, 1...\n",
       "1       When an amorphous polymer is mixed with a suit...  ...  [6, 4, 4, 6, 6, 13, 10, 10, 10, 6, 13, 13, 0, ...\n",
       "2       In a ' poor ' solvent, the interactions are fe...  ...  [6, 6, 6, 6, 6, 11, 11, 9, 11, 11, 0, 18, 14, ...\n",
       "3       The fundamental thermodynamic equation used to...  ...  [4, 4, 4, 10, 4, 7, 5, 9, 7, 0, 16, 16, 16, 15...\n",
       "4       This is valid only for components of comparabl...  ...  [3, 3, 0, 6, 6, 3, 9, 9, 6, 24, 24, 24, 15, 15...\n",
       "...                                                   ...  ...                                                ...\n",
       "197201  Nonetheless I must stand my ground and restate...  ...  [4, 4, 4, 0, 6, 4, 8, 4, 14, 14, 14, 14, 14, 8...\n",
       "197202  How much longer will everyone ignore this phen...  ...                        [2, 3, 6, 6, 6, 0, 8, 6, 6]\n",
       "197204  If so, it shows the town suffering more than i...  ...  [2, 5, 5, 5, 0, 7, 5, 7, 8, 13, 13, 13, 8, 17,...\n",
       "197205  I doubt if many Scottish historians would take...  ...              [2, 0, 8, 6, 6, 8, 8, 2, 10, 8, 8, 2]\n",
       "197206    Well, that 's one kind of civilisation ; maybe.  ...                 [6, 6, 6, 6, 6, 0, 8, 6, 10, 6, 6]\n",
       "\n",
       "[114899 rows x 9 columns]"
      ]
     },
     "execution_count": 19,
     "metadata": {
      "tags": []
     },
     "output_type": "execute_result"
    }
   ],
   "source": [
    "clean_bnc_frame"
   ]
  },
  {
   "cell_type": "code",
   "execution_count": null,
   "metadata": {
    "id": "-zfqiDeZziRT"
   },
   "outputs": [],
   "source": []
  }
 ],
 "metadata": {
  "accelerator": "GPU",
  "colab": {
   "authorship_tag": "ABX9TyPr7ov71MD3LhmLjSH1N4UK",
   "collapsed_sections": [],
   "name": "sentences_selection_corpora.ipynb",
   "provenance": []
  },
  "kernelspec": {
   "display_name": "Python 3",
   "language": "python",
   "name": "python3"
  },
  "language_info": {
   "codemirror_mode": {
    "name": "ipython",
    "version": 3
   },
   "file_extension": ".py",
   "mimetype": "text/x-python",
   "name": "python",
   "nbconvert_exporter": "python",
   "pygments_lexer": "ipython3",
   "version": "3.7.3"
  }
 },
 "nbformat": 4,
 "nbformat_minor": 1
}
