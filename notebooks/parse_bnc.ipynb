{
 "cells": [
  {
   "cell_type": "code",
   "execution_count": null,
   "id": "several-prerequisite",
   "metadata": {
    "colab": {
     "base_uri": "https://localhost:8080/"
    },
    "executionInfo": {
     "elapsed": 3387,
     "status": "ok",
     "timestamp": 1623313102326,
     "user": {
      "displayName": "Βαλάντης Μάστορας",
      "photoUrl": "https://lh3.googleusercontent.com/a-/AOh14GgRDWJL-ozbkr5LNwOsNGjVoQZp3lzdPCkIokNmdg=s64",
      "userId": "04388309566228450093"
     },
     "user_tz": -180
    },
    "id": "legitimate-diamond",
    "outputId": "5ce2a23c-5e9a-4e97-8326-5debbc05a6c0"
   },
   "outputs": [
    {
     "name": "stdout",
     "output_type": "stream",
     "text": [
      "Collecting stanza\n",
      "\u001b[?25l  Downloading https://files.pythonhosted.org/packages/2d/f3/cd7eaacabcec195a1c6c07b08cf1587b9f3f8754feba5c87d28867d75671/stanza-1.2.1-py3-none-any.whl (334kB)\n",
      "\r",
      "\u001b[K     |█                               | 10kB 14.3MB/s eta 0:00:01\r",
      "\u001b[K     |██                              | 20kB 21.4MB/s eta 0:00:01\r",
      "\u001b[K     |███                             | 30kB 26.6MB/s eta 0:00:01\r",
      "\u001b[K     |████                            | 40kB 27.2MB/s eta 0:00:01\r",
      "\u001b[K     |█████                           | 51kB 29.7MB/s eta 0:00:01\r",
      "\u001b[K     |█████▉                          | 61kB 28.2MB/s eta 0:00:01\r",
      "\u001b[K     |██████▉                         | 71kB 23.5MB/s eta 0:00:01\r",
      "\u001b[K     |███████▉                        | 81kB 24.5MB/s eta 0:00:01\r",
      "\u001b[K     |████████▉                       | 92kB 26.1MB/s eta 0:00:01\r",
      "\u001b[K     |█████████▉                      | 102kB 26.7MB/s eta 0:00:01\r",
      "\u001b[K     |██████████▊                     | 112kB 26.7MB/s eta 0:00:01\r",
      "\u001b[K     |███████████▊                    | 122kB 26.7MB/s eta 0:00:01\r",
      "\u001b[K     |████████████▊                   | 133kB 26.7MB/s eta 0:00:01\r",
      "\u001b[K     |█████████████▊                  | 143kB 26.7MB/s eta 0:00:01\r",
      "\u001b[K     |██████████████▊                 | 153kB 26.7MB/s eta 0:00:01\r",
      "\u001b[K     |███████████████▊                | 163kB 26.7MB/s eta 0:00:01\r",
      "\u001b[K     |████████████████▋               | 174kB 26.7MB/s eta 0:00:01\r",
      "\u001b[K     |█████████████████▋              | 184kB 26.7MB/s eta 0:00:01\r",
      "\u001b[K     |██████████████████▋             | 194kB 26.7MB/s eta 0:00:01\r",
      "\u001b[K     |███████████████████▋            | 204kB 26.7MB/s eta 0:00:01\r",
      "\u001b[K     |████████████████████▋           | 215kB 26.7MB/s eta 0:00:01\r",
      "\u001b[K     |█████████████████████▌          | 225kB 26.7MB/s eta 0:00:01\r",
      "\u001b[K     |██████████████████████▌         | 235kB 26.7MB/s eta 0:00:01\r",
      "\u001b[K     |███████████████████████▌        | 245kB 26.7MB/s eta 0:00:01\r",
      "\u001b[K     |████████████████████████▌       | 256kB 26.7MB/s eta 0:00:01\r",
      "\u001b[K     |█████████████████████████▌      | 266kB 26.7MB/s eta 0:00:01\r",
      "\u001b[K     |██████████████████████████▍     | 276kB 26.7MB/s eta 0:00:01\r",
      "\u001b[K     |███████████████████████████▍    | 286kB 26.7MB/s eta 0:00:01\r",
      "\u001b[K     |████████████████████████████▍   | 296kB 26.7MB/s eta 0:00:01\r",
      "\u001b[K     |█████████████████████████████▍  | 307kB 26.7MB/s eta 0:00:01\r",
      "\u001b[K     |██████████████████████████████▍ | 317kB 26.7MB/s eta 0:00:01\r",
      "\u001b[K     |███████████████████████████████▍| 327kB 26.7MB/s eta 0:00:01\r",
      "\u001b[K     |████████████████████████████████| 337kB 26.7MB/s \n",
      "\u001b[?25hRequirement already satisfied: numpy in /usr/local/lib/python3.7/dist-packages (from stanza) (1.19.5)\n",
      "Requirement already satisfied: torch>=1.3.0 in /usr/local/lib/python3.7/dist-packages (from stanza) (1.8.1+cu101)\n",
      "Requirement already satisfied: requests in /usr/local/lib/python3.7/dist-packages (from stanza) (2.23.0)\n",
      "Requirement already satisfied: protobuf in /usr/local/lib/python3.7/dist-packages (from stanza) (3.12.4)\n",
      "Requirement already satisfied: tqdm in /usr/local/lib/python3.7/dist-packages (from stanza) (4.41.1)\n",
      "Requirement already satisfied: typing-extensions in /usr/local/lib/python3.7/dist-packages (from torch>=1.3.0->stanza) (3.7.4.3)\n",
      "Requirement already satisfied: chardet<4,>=3.0.2 in /usr/local/lib/python3.7/dist-packages (from requests->stanza) (3.0.4)\n",
      "Requirement already satisfied: idna<3,>=2.5 in /usr/local/lib/python3.7/dist-packages (from requests->stanza) (2.10)\n",
      "Requirement already satisfied: certifi>=2017.4.17 in /usr/local/lib/python3.7/dist-packages (from requests->stanza) (2020.12.5)\n",
      "Requirement already satisfied: urllib3!=1.25.0,!=1.25.1,<1.26,>=1.21.1 in /usr/local/lib/python3.7/dist-packages (from requests->stanza) (1.24.3)\n",
      "Requirement already satisfied: setuptools in /usr/local/lib/python3.7/dist-packages (from protobuf->stanza) (57.0.0)\n",
      "Requirement already satisfied: six>=1.9 in /usr/local/lib/python3.7/dist-packages (from protobuf->stanza) (1.15.0)\n",
      "Installing collected packages: stanza\n",
      "Successfully installed stanza-1.2.1\n"
     ]
    }
   ],
   "source": [
    "!pip install stanza"
   ]
  },
  {
   "cell_type": "code",
   "execution_count": null,
   "id": "color-recorder",
   "metadata": {
    "id": "honey-respondent"
   },
   "outputs": [],
   "source": [
    "import stanza\n",
    "import pandas as pd\n",
    "import os\n",
    "import pickle\n",
    "import re"
   ]
  },
  {
   "cell_type": "code",
   "execution_count": null,
   "id": "corporate-rhythm",
   "metadata": {
    "colab": {
     "base_uri": "https://localhost:8080/",
     "height": 149,
     "referenced_widgets": [
      "33e9e4b2208d4c05975d4d39fcb100bc",
      "e347b6002ad64d1bbf916a260c5ce8d0",
      "6207b55bd3fc4450ab20412ad8d510a1",
      "1de32da9b19648e4b19fe4079bfc81ee",
      "754c65bb41f842748d071b339bba40f6",
      "7e04be2bf58b45b8a0f72ff36921b94c",
      "74387ae2258048578884b2f56b22c085",
      "091e8e2672b34f998eb5e3189137fd23",
      "a8404f2ced4247b5bcca4d76aa525a58",
      "2b3d39686e874080be7f06ef4262519a",
      "ca5b1374e51a41e48e50a942aa9ca633",
      "b29366645cdf4ff69c4f4592fce4feaf",
      "51332292172c4d3aa2942743a580828b",
      "083215d9466449509ee2bbf965ccc3dc",
      "a5a4860a0bff49379d848ab83fd60df4",
      "2264125b343f456aa23b5ecfe2472b5c"
     ]
    },
    "executionInfo": {
     "elapsed": 691555,
     "status": "ok",
     "timestamp": 1623313797758,
     "user": {
      "displayName": "Βαλάντης Μάστορας",
      "photoUrl": "https://lh3.googleusercontent.com/a-/AOh14GgRDWJL-ozbkr5LNwOsNGjVoQZp3lzdPCkIokNmdg=s64",
      "userId": "04388309566228450093"
     },
     "user_tz": -180
    },
    "id": "forbidden-temperature",
    "outputId": "72708648-bc35-40a6-b889-6e72b0d4756e"
   },
   "outputs": [
    {
     "data": {
      "application/vnd.jupyter.widget-view+json": {
       "model_id": "33e9e4b2208d4c05975d4d39fcb100bc",
       "version_major": 2,
       "version_minor": 0
      },
      "text/plain": [
       "HBox(children=(FloatProgress(value=0.0, description='Downloading https://raw.githubusercontent.com/stanfordnlp…"
      ]
     },
     "metadata": {
      "tags": []
     },
     "output_type": "display_data"
    },
    {
     "name": "stderr",
     "output_type": "stream",
     "text": [
      "2021-06-10 08:18:25 INFO: Downloading default packages for language: en (English)...\n"
     ]
    },
    {
     "name": "stdout",
     "output_type": "stream",
     "text": [
      "\n"
     ]
    },
    {
     "data": {
      "application/vnd.jupyter.widget-view+json": {
       "model_id": "a8404f2ced4247b5bcca4d76aa525a58",
       "version_major": 2,
       "version_minor": 0
      },
      "text/plain": [
       "HBox(children=(FloatProgress(value=0.0, description='Downloading http://nlp.stanford.edu/software/stanza/1.2.1…"
      ]
     },
     "metadata": {
      "tags": []
     },
     "output_type": "display_data"
    },
    {
     "name": "stdout",
     "output_type": "stream",
     "text": [
      "\n"
     ]
    },
    {
     "name": "stderr",
     "output_type": "stream",
     "text": [
      "2021-06-10 08:29:57 INFO: Finished downloading models and saved to /root/stanza_resources.\n"
     ]
    }
   ],
   "source": [
    "stanza.download('en')"
   ]
  },
  {
   "cell_type": "code",
   "execution_count": null,
   "id": "shaped-bradley",
   "metadata": {
    "colab": {
     "base_uri": "https://localhost:8080/"
    },
    "executionInfo": {
     "elapsed": 11481,
     "status": "ok",
     "timestamp": 1623313809211,
     "user": {
      "displayName": "Βαλάντης Μάστορας",
      "photoUrl": "https://lh3.googleusercontent.com/a-/AOh14GgRDWJL-ozbkr5LNwOsNGjVoQZp3lzdPCkIokNmdg=s64",
      "userId": "04388309566228450093"
     },
     "user_tz": -180
    },
    "id": "alert-papua",
    "outputId": "bda5fde9-9319-45b1-920c-09dcc3c790ea"
   },
   "outputs": [
    {
     "name": "stderr",
     "output_type": "stream",
     "text": [
      "2021-06-10 08:29:57 WARNING: Can not find mwt: default from official model list. Ignoring it.\n",
      "2021-06-10 08:29:57 INFO: Loading these models for language: en (English):\n",
      "========================\n",
      "| Processor | Package  |\n",
      "------------------------\n",
      "| tokenize  | combined |\n",
      "| pos       | combined |\n",
      "| lemma     | combined |\n",
      "| depparse  | combined |\n",
      "========================\n",
      "\n",
      "2021-06-10 08:29:57 INFO: Use device: gpu\n",
      "2021-06-10 08:29:57 INFO: Loading: tokenize\n",
      "2021-06-10 08:30:08 INFO: Loading: pos\n",
      "2021-06-10 08:30:08 INFO: Loading: lemma\n",
      "2021-06-10 08:30:08 INFO: Loading: depparse\n",
      "2021-06-10 08:30:08 INFO: Done loading processors!\n"
     ]
    }
   ],
   "source": [
    "nlp = stanza.Pipeline(lang='en', processors='tokenize, pos, mwt, lemma, depparse')"
   ]
  },
  {
   "cell_type": "code",
   "execution_count": null,
   "id": "excessive-enlargement",
   "metadata": {
    "id": "classical-peoples"
   },
   "outputs": [],
   "source": [
    "with open('./data/misc/bnc_sentences_unparsed.pkl', 'rb') as f:\n",
    "    corpus_sentences = pickle.load(f)"
   ]
  },
  {
   "cell_type": "code",
   "execution_count": null,
   "id": "future-volleyball",
   "metadata": {
    "colab": {
     "base_uri": "https://localhost:8080/"
    },
    "executionInfo": {
     "elapsed": 298,
     "status": "ok",
     "timestamp": 1623314003681,
     "user": {
      "displayName": "Βαλάντης Μάστορας",
      "photoUrl": "https://lh3.googleusercontent.com/a-/AOh14GgRDWJL-ozbkr5LNwOsNGjVoQZp3lzdPCkIokNmdg=s64",
      "userId": "04388309566228450093"
     },
     "user_tz": -180
    },
    "id": "S6xQiyY3esPR",
    "outputId": "d8544598-22d9-4b85-a0df-8e2901e34de4"
   },
   "outputs": [
    {
     "data": {
      "text/plain": [
       "265582"
      ]
     },
     "execution_count": 28,
     "metadata": {
      "tags": []
     },
     "output_type": "execute_result"
    }
   ],
   "source": [
    "len(corpus_sentences)"
   ]
  },
  {
   "cell_type": "code",
   "execution_count": null,
   "id": "silver-snowboard",
   "metadata": {
    "id": "VkxgiKjZOIS3"
   },
   "outputs": [],
   "source": [
    "# limit the sentence size between 4 and 25 words\n",
    "corpus_sentences_clean = []\n",
    "\n",
    "for sen in corpus_sentences:\n",
    "\n",
    "  # limit the sentence size between 4 and 25, for better results\n",
    "  if (len(re.findall(r'\\w+', sen)) >= 4 and len(re.findall(r'\\w+', sen)) <= 25):\n",
    "\n",
    "    corpus_sentences_clean.append(sen)"
   ]
  },
  {
   "cell_type": "code",
   "execution_count": null,
   "id": "working-baseline",
   "metadata": {
    "colab": {
     "base_uri": "https://localhost:8080/"
    },
    "executionInfo": {
     "elapsed": 14,
     "status": "ok",
     "timestamp": 1623314006425,
     "user": {
      "displayName": "Βαλάντης Μάστορας",
      "photoUrl": "https://lh3.googleusercontent.com/a-/AOh14GgRDWJL-ozbkr5LNwOsNGjVoQZp3lzdPCkIokNmdg=s64",
      "userId": "04388309566228450093"
     },
     "user_tz": -180
    },
    "id": "FVLFiq8fAGLD",
    "outputId": "d364568f-3998-411c-be48-6e6bcf171d56"
   },
   "outputs": [
    {
     "data": {
      "text/plain": [
       "197209"
      ]
     },
     "execution_count": 30,
     "metadata": {
      "tags": []
     },
     "output_type": "execute_result"
    }
   ],
   "source": [
    "len(corpus_sentences_clean)"
   ]
  },
  {
   "cell_type": "markdown",
   "id": "theoretical-energy",
   "metadata": {
    "id": "-caxKj7IFgdn"
   },
   "source": [
    "## We loop twice. In the first loop, we obtain the whole parsing information. In the second loop, we obtain only the tokenized sentences. The reason to do that, is because we want to retrieve the parsing information from the lowercased text, since incosistencies in the lemma form may exist otherwise. Nevertheless, we also loop for a second time to reobtain the tokenized form, since the final sentences generation will be based on those tokens and with the lowercased ones, important information might be lost (eg the capitalization of proper names)"
   ]
  },
  {
   "cell_type": "code",
   "execution_count": null,
   "id": "infrared-leave",
   "metadata": {
    "id": "revolutionary-filename"
   },
   "outputs": [],
   "source": [
    "# obtain the parsing information\n",
    "upos_sentence_list = []\n",
    "xpos_sentence_list = []\n",
    "lemma_sentence_list = []\n",
    "dependency_sentence_list = []\n",
    "features_sentence_list = []\n",
    "id_sentence_list = []\n",
    "head_sentence_list = []\n",
    "\n",
    "for sentence in corpus_sentences_clean:\n",
    "    parsed_sentence = nlp(sentence.lower())\n",
    "\n",
    "    upos_list = []\n",
    "    xpos_list = []\n",
    "    lemma_list = []\n",
    "    dependency_list = []\n",
    "    features_list = []\n",
    "    id_list = []\n",
    "    head_list = []\n",
    "\n",
    "    for sentence in parsed_sentence.sentences:\n",
    "        for word in sentence.words:\n",
    "\n",
    "            # upos\n",
    "            upos_list.append(word.upos)\n",
    "            # xpos\n",
    "            xpos_list.append(word.xpos)\n",
    "            # lemma\n",
    "            lemma_list.append(word.lemma)\n",
    "\n",
    "            # dependencies \n",
    "            if word.head > 0:\n",
    "                head_word = sentence.words[word.head - 1].text         \n",
    "            else:\n",
    "                head_word = \"root\"\n",
    "            dependency_list.append((head_word,word.deprel))\n",
    "\n",
    "            # features\n",
    "            if word.feats:   \n",
    "                features_list.append(word.feats)\n",
    "            else:\n",
    "                features_list.append('_')\n",
    "\n",
    "            # id\n",
    "            id_list.append(word.id)\n",
    "            # head\n",
    "            head_list.append(word.head)\n",
    "    \n",
    "    upos_sentence_list.append(upos_list)\n",
    "    xpos_sentence_list.append(xpos_list)\n",
    "    lemma_sentence_list.append(lemma_list)\n",
    "    dependency_sentence_list.append(dependency_list)\n",
    "    features_sentence_list.append(features_list)\n",
    "    id_sentence_list.append(id_list)\n",
    "    head_sentence_list.append(head_list)"
   ]
  },
  {
   "cell_type": "code",
   "execution_count": null,
   "id": "celtic-equity",
   "metadata": {
    "id": "intense-international"
   },
   "outputs": [],
   "source": [
    "# obtain only the tokens\n",
    "tokens_sentence_list = []\n",
    "\n",
    "for sentence in corpus_sentences_clean:\n",
    "    parsed_sentence = nlp(sentence)\n",
    "\n",
    "    tokens_list = []\n",
    "\n",
    "    for sentence in parsed_sentence.sentences:\n",
    "        for word in sentence.words:\n",
    "\n",
    "            # tokens\n",
    "            tokens_list.append(word.text)\n",
    "\n",
    "    tokens_sentence_list.append(tokens_list)"
   ]
  },
  {
   "cell_type": "code",
   "execution_count": null,
   "id": "genuine-leave",
   "metadata": {
    "id": "bWytWyQ6y1G5"
   },
   "outputs": [],
   "source": [
    "# final dataset\n",
    "dataset = {\n",
    "           'Sentence':  corpus_sentences_clean,\n",
    "           'Tokens': tokens_sentence_list,\n",
    "           'Lemma': lemma_sentence_list,\n",
    "           'Upos':  upos_sentence_list,\n",
    "           'Xpos':  xpos_sentence_list,\n",
    "           'Dependency':  dependency_sentence_list,\n",
    "           'Features': features_sentence_list,\n",
    "           'id': id_sentence_list,\n",
    "           'Head': head_sentence_list\n",
    "          }\n",
    "\n",
    "df = pd.DataFrame (dataset, columns = ['Sentence', 'Tokens', 'Lemma', 'Upos', 'Xpos', 'Dependency', 'Features', 'id', 'Head'])"
   ]
  },
  {
   "cell_type": "code",
   "execution_count": null,
   "id": "square-glass",
   "metadata": {
    "colab": {
     "base_uri": "https://localhost:8080/",
     "height": 1000
    },
    "executionInfo": {
     "elapsed": 17,
     "status": "ok",
     "timestamp": 1623328346062,
     "user": {
      "displayName": "Βαλάντης Μάστορας",
      "photoUrl": "https://lh3.googleusercontent.com/a-/AOh14GgRDWJL-ozbkr5LNwOsNGjVoQZp3lzdPCkIokNmdg=s64",
      "userId": "04388309566228450093"
     },
     "user_tz": -180
    },
    "id": "MexXpnJtDbbV",
    "outputId": "73643f49-bfe1-4492-cfcb-0159cc8407cb"
   },
   "outputs": [
    {
     "data": {
      "text/html": [
       "<div>\n",
       "<style scoped>\n",
       "    .dataframe tbody tr th:only-of-type {\n",
       "        vertical-align: middle;\n",
       "    }\n",
       "\n",
       "    .dataframe tbody tr th {\n",
       "        vertical-align: top;\n",
       "    }\n",
       "\n",
       "    .dataframe thead th {\n",
       "        text-align: right;\n",
       "    }\n",
       "</style>\n",
       "<table border=\"1\" class=\"dataframe\">\n",
       "  <thead>\n",
       "    <tr style=\"text-align: right;\">\n",
       "      <th></th>\n",
       "      <th>Sentence</th>\n",
       "      <th>Tokens</th>\n",
       "      <th>Lemma</th>\n",
       "      <th>Upos</th>\n",
       "      <th>Xpos</th>\n",
       "      <th>Dependency</th>\n",
       "      <th>Features</th>\n",
       "      <th>id</th>\n",
       "      <th>Head</th>\n",
       "    </tr>\n",
       "  </thead>\n",
       "  <tbody>\n",
       "    <tr>\n",
       "      <th>0</th>\n",
       "      <td>The interaction of long chain molecules with l...</td>\n",
       "      <td>[The, interaction, of, long, chain, molecules,...</td>\n",
       "      <td>[the, interaction, of, long, chain, molecule, ...</td>\n",
       "      <td>[DET, NOUN, ADP, ADJ, NOUN, NOUN, ADP, NOUN, A...</td>\n",
       "      <td>[DT, NN, IN, JJ, NN, NNS, IN, NNS, VBZ, IN, JJ...</td>\n",
       "      <td>[(interaction, det), (interest, nsubj), (molec...</td>\n",
       "      <td>[Definite=Def|PronType=Art, Number=Sing, _, De...</td>\n",
       "      <td>[1, 2, 3, 4, 5, 6, 7, 8, 9, 10, 11, 12, 13, 14...</td>\n",
       "      <td>[2, 12, 6, 6, 6, 2, 8, 6, 12, 12, 12, 0, 19, 1...</td>\n",
       "    </tr>\n",
       "    <tr>\n",
       "      <th>1</th>\n",
       "      <td>When an amorphous polymer is mixed with a suit...</td>\n",
       "      <td>[When, an, amorphous, polymer, is, mixed, with...</td>\n",
       "      <td>[when, a, amorphous, polymer, be, mix, with, a...</td>\n",
       "      <td>[SCONJ, DET, ADJ, NOUN, AUX, VERB, ADP, DET, A...</td>\n",
       "      <td>[WRB, DT, JJ, NN, VBZ, VBN, IN, DT, JJ, NN, ,,...</td>\n",
       "      <td>[(mixed, mark), (polymer, det), (polymer, amod...</td>\n",
       "      <td>[PronType=Int, Definite=Ind|PronType=Art, Degr...</td>\n",
       "      <td>[1, 2, 3, 4, 5, 6, 7, 8, 9, 10, 11, 12, 13, 14...</td>\n",
       "      <td>[6, 4, 4, 6, 6, 13, 10, 10, 10, 6, 13, 13, 0, ...</td>\n",
       "    </tr>\n",
       "    <tr>\n",
       "      <th>2</th>\n",
       "      <td>In a ' poor ' solvent, the interactions are fe...</td>\n",
       "      <td>[In, a, ', poor, ', solvent, ,, the, interacti...</td>\n",
       "      <td>[in, a, ', poor, ', solvent, ,, the, interacti...</td>\n",
       "      <td>[ADP, DET, PUNCT, ADJ, PUNCT, NOUN, PUNCT, DET...</td>\n",
       "      <td>[IN, DT, ``, JJ, '', NN, ,, DT, NNS, VBP, JJR,...</td>\n",
       "      <td>[(solvent, case), (solvent, det), (solvent, pu...</td>\n",
       "      <td>[_, Definite=Ind|PronType=Art, _, Degree=Pos, ...</td>\n",
       "      <td>[1, 2, 3, 4, 5, 6, 7, 8, 9, 10, 11, 12, 13, 14...</td>\n",
       "      <td>[6, 6, 6, 6, 6, 11, 11, 9, 11, 11, 0, 18, 14, ...</td>\n",
       "    </tr>\n",
       "    <tr>\n",
       "      <th>3</th>\n",
       "      <td>The fundamental thermodynamic equation used to...</td>\n",
       "      <td>[The, fundamental, thermodynamic, equation, us...</td>\n",
       "      <td>[the, fundamental, thermodynamic, equation, us...</td>\n",
       "      <td>[DET, ADJ, ADJ, NOUN, VERB, PART, VERB, DET, N...</td>\n",
       "      <td>[DT, JJ, JJ, NN, VBN, TO, VB, DT, NNS, VBZ, DT...</td>\n",
       "      <td>[(equation, det), (equation, amod), (equation,...</td>\n",
       "      <td>[Definite=Def|PronType=Art, Degree=Pos, Degree...</td>\n",
       "      <td>[1, 2, 3, 4, 5, 6, 7, 8, 9, 10, 11, 12, 13, 14...</td>\n",
       "      <td>[4, 4, 4, 10, 4, 7, 5, 9, 7, 0, 16, 16, 16, 15...</td>\n",
       "    </tr>\n",
       "    <tr>\n",
       "      <th>4</th>\n",
       "      <td>This is valid only for components of comparabl...</td>\n",
       "      <td>[This, is, valid, only, for, components, of, c...</td>\n",
       "      <td>[this, be, valid, only, for, component, of, co...</td>\n",
       "      <td>[PRON, AUX, ADJ, ADV, ADP, NOUN, ADP, ADJ, NOU...</td>\n",
       "      <td>[DT, VBZ, JJ, RB, IN, NNS, IN, JJ, NN, ,, CC, ...</td>\n",
       "      <td>[(valid, nsubj), (valid, cop), (root, root), (...</td>\n",
       "      <td>[Number=Sing|PronType=Dem, Mood=Ind|Number=Sin...</td>\n",
       "      <td>[1, 2, 3, 4, 5, 6, 7, 8, 9, 10, 11, 12, 13, 14...</td>\n",
       "      <td>[3, 3, 0, 6, 6, 3, 9, 9, 6, 24, 24, 24, 15, 15...</td>\n",
       "    </tr>\n",
       "    <tr>\n",
       "      <th>...</th>\n",
       "      <td>...</td>\n",
       "      <td>...</td>\n",
       "      <td>...</td>\n",
       "      <td>...</td>\n",
       "      <td>...</td>\n",
       "      <td>...</td>\n",
       "      <td>...</td>\n",
       "      <td>...</td>\n",
       "      <td>...</td>\n",
       "    </tr>\n",
       "    <tr>\n",
       "      <th>197202</th>\n",
       "      <td>How much longer will everyone ignore this phen...</td>\n",
       "      <td>[How, much, longer, will, everyone, ignore, th...</td>\n",
       "      <td>[how, much, long, will, everyone, ignore, this...</td>\n",
       "      <td>[ADV, ADV, ADV, AUX, PRON, VERB, DET, NOUN, PU...</td>\n",
       "      <td>[WRB, RB, RBR, MD, NN, VB, DT, NN, .]</td>\n",
       "      <td>[(much, advmod), (longer, advmod), (ignore, ad...</td>\n",
       "      <td>[PronType=Int, Degree=Pos, Degree=Cmp, VerbFor...</td>\n",
       "      <td>[1, 2, 3, 4, 5, 6, 7, 8, 9]</td>\n",
       "      <td>[2, 3, 6, 6, 6, 0, 8, 6, 6]</td>\n",
       "    </tr>\n",
       "    <tr>\n",
       "      <th>197203</th>\n",
       "      <td>Is this Dunfermline 's official line?</td>\n",
       "      <td>[Is, this, Dunfermline, 's, official, line, ?]</td>\n",
       "      <td>[be, this, dunfermline, 's, official, line, ?]</td>\n",
       "      <td>[AUX, DET, PROPN, PART, ADJ, NOUN, PUNCT]</td>\n",
       "      <td>[VBZ, DT, NNP, POS, JJ, NN, .]</td>\n",
       "      <td>[(line, cop), (dunfermline, det), (line, nmod:...</td>\n",
       "      <td>[Mood=Ind|Number=Sing|Person=3|Tense=Pres|Verb...</td>\n",
       "      <td>[1, 2, 3, 4, 5, 6, 7]</td>\n",
       "      <td>[6, 3, 6, 3, 6, 0, 6]</td>\n",
       "    </tr>\n",
       "    <tr>\n",
       "      <th>197204</th>\n",
       "      <td>If so, it shows the town suffering more than i...</td>\n",
       "      <td>[If, so, ,, it, shows, the, town, suffering, m...</td>\n",
       "      <td>[if, so, ,, it, show, the, town, suffer, more,...</td>\n",
       "      <td>[SCONJ, ADV, PUNCT, PRON, VERB, DET, NOUN, VER...</td>\n",
       "      <td>[IN, RB, ,, PRP, VBZ, DT, NN, VBG, JJR, IN, PR...</td>\n",
       "      <td>[(so, mark), (shows, advcl), (shows, punct), (...</td>\n",
       "      <td>[_, _, _, Case=Nom|Gender=Neut|Number=Sing|Per...</td>\n",
       "      <td>[1, 2, 3, 4, 5, 6, 7, 8, 9, 10, 11, 12, 13, 14...</td>\n",
       "      <td>[2, 5, 5, 5, 0, 7, 5, 7, 8, 13, 13, 13, 8, 17,...</td>\n",
       "    </tr>\n",
       "    <tr>\n",
       "      <th>197205</th>\n",
       "      <td>I doubt if many Scottish historians would take...</td>\n",
       "      <td>[I, doubt, if, many, Scottish, historians, wou...</td>\n",
       "      <td>[I, doubt, if, many, scottish, historian, woul...</td>\n",
       "      <td>[PRON, VERB, SCONJ, ADJ, ADJ, NOUN, AUX, VERB,...</td>\n",
       "      <td>[PRP, VBP, IN, JJ, JJ, NNS, MD, VB, DT, NN, RB...</td>\n",
       "      <td>[(doubt, nsubj), (root, root), (take, mark), (...</td>\n",
       "      <td>[Case=Nom|Number=Sing|Person=1|PronType=Prs, M...</td>\n",
       "      <td>[1, 2, 3, 4, 5, 6, 7, 8, 9, 10, 11, 12]</td>\n",
       "      <td>[2, 0, 8, 6, 6, 8, 8, 2, 10, 8, 8, 2]</td>\n",
       "    </tr>\n",
       "    <tr>\n",
       "      <th>197206</th>\n",
       "      <td>Well, that 's one kind of civilisation ; maybe.</td>\n",
       "      <td>[Well, ,, that, 's, one, kind, of, civilisatio...</td>\n",
       "      <td>[well, ,, that, be, one, kind, of, civilisatio...</td>\n",
       "      <td>[INTJ, PUNCT, PRON, AUX, NUM, NOUN, ADP, NOUN,...</td>\n",
       "      <td>[UH, ,, DT, VBZ, CD, NN, IN, NN, :, RB, .]</td>\n",
       "      <td>[(kind, discourse), (kind, punct), (kind, nsub...</td>\n",
       "      <td>[_, _, Number=Sing|PronType=Dem, Mood=Ind|Numb...</td>\n",
       "      <td>[1, 2, 3, 4, 5, 6, 7, 8, 9, 10, 11]</td>\n",
       "      <td>[6, 6, 6, 6, 6, 0, 8, 6, 10, 6, 6]</td>\n",
       "    </tr>\n",
       "  </tbody>\n",
       "</table>\n",
       "<p>197207 rows × 9 columns</p>\n",
       "</div>"
      ],
      "text/plain": [
       "                                                 Sentence  ...                                               Head\n",
       "0       The interaction of long chain molecules with l...  ...  [2, 12, 6, 6, 6, 2, 8, 6, 12, 12, 12, 0, 19, 1...\n",
       "1       When an amorphous polymer is mixed with a suit...  ...  [6, 4, 4, 6, 6, 13, 10, 10, 10, 6, 13, 13, 0, ...\n",
       "2       In a ' poor ' solvent, the interactions are fe...  ...  [6, 6, 6, 6, 6, 11, 11, 9, 11, 11, 0, 18, 14, ...\n",
       "3       The fundamental thermodynamic equation used to...  ...  [4, 4, 4, 10, 4, 7, 5, 9, 7, 0, 16, 16, 16, 15...\n",
       "4       This is valid only for components of comparabl...  ...  [3, 3, 0, 6, 6, 3, 9, 9, 6, 24, 24, 24, 15, 15...\n",
       "...                                                   ...  ...                                                ...\n",
       "197202  How much longer will everyone ignore this phen...  ...                        [2, 3, 6, 6, 6, 0, 8, 6, 6]\n",
       "197203              Is this Dunfermline 's official line?  ...                              [6, 3, 6, 3, 6, 0, 6]\n",
       "197204  If so, it shows the town suffering more than i...  ...  [2, 5, 5, 5, 0, 7, 5, 7, 8, 13, 13, 13, 8, 17,...\n",
       "197205  I doubt if many Scottish historians would take...  ...              [2, 0, 8, 6, 6, 8, 8, 2, 10, 8, 8, 2]\n",
       "197206    Well, that 's one kind of civilisation ; maybe.  ...                 [6, 6, 6, 6, 6, 0, 8, 6, 10, 6, 6]\n",
       "\n",
       "[197207 rows x 9 columns]"
      ]
     },
     "execution_count": 42,
     "metadata": {
      "tags": []
     },
     "output_type": "execute_result"
    }
   ],
   "source": [
    "df"
   ]
  },
  {
   "cell_type": "code",
   "execution_count": null,
   "id": "adult-korea",
   "metadata": {
    "id": "816dEsVy8Hqi"
   },
   "outputs": [],
   "source": [
    "df.to_pickle(\"./data/misc/bnc_sentences_parsed.pkl\")"
   ]
  },
  {
   "cell_type": "code",
   "execution_count": null,
   "id": "afraid-novel",
   "metadata": {
    "id": "3colUQjYDc4e"
   },
   "outputs": [],
   "source": []
  }
 ],
 "metadata": {
  "accelerator": "GPU",
  "colab": {
   "collapsed_sections": [],
   "name": "bnc_small_parse1.ipynb",
   "provenance": []
  },
  "kernelspec": {
   "display_name": "Python 3",
   "language": "python",
   "name": "python3"
  },
  "language_info": {
   "codemirror_mode": {
    "name": "ipython",
    "version": 3
   },
   "file_extension": ".py",
   "mimetype": "text/x-python",
   "name": "python",
   "nbconvert_exporter": "python",
   "pygments_lexer": "ipython3",
   "version": "3.7.3"
  },
  "widgets": {
   "application/vnd.jupyter.widget-state+json": {
    "083215d9466449509ee2bbf965ccc3dc": {
     "model_module": "@jupyter-widgets/base",
     "model_name": "LayoutModel",
     "state": {
      "_model_module": "@jupyter-widgets/base",
      "_model_module_version": "1.2.0",
      "_model_name": "LayoutModel",
      "_view_count": null,
      "_view_module": "@jupyter-widgets/base",
      "_view_module_version": "1.2.0",
      "_view_name": "LayoutView",
      "align_content": null,
      "align_items": null,
      "align_self": null,
      "border": null,
      "bottom": null,
      "display": null,
      "flex": null,
      "flex_flow": null,
      "grid_area": null,
      "grid_auto_columns": null,
      "grid_auto_flow": null,
      "grid_auto_rows": null,
      "grid_column": null,
      "grid_gap": null,
      "grid_row": null,
      "grid_template_areas": null,
      "grid_template_columns": null,
      "grid_template_rows": null,
      "height": null,
      "justify_content": null,
      "justify_items": null,
      "left": null,
      "margin": null,
      "max_height": null,
      "max_width": null,
      "min_height": null,
      "min_width": null,
      "object_fit": null,
      "object_position": null,
      "order": null,
      "overflow": null,
      "overflow_x": null,
      "overflow_y": null,
      "padding": null,
      "right": null,
      "top": null,
      "visibility": null,
      "width": null
     }
    },
    "091e8e2672b34f998eb5e3189137fd23": {
     "model_module": "@jupyter-widgets/base",
     "model_name": "LayoutModel",
     "state": {
      "_model_module": "@jupyter-widgets/base",
      "_model_module_version": "1.2.0",
      "_model_name": "LayoutModel",
      "_view_count": null,
      "_view_module": "@jupyter-widgets/base",
      "_view_module_version": "1.2.0",
      "_view_name": "LayoutView",
      "align_content": null,
      "align_items": null,
      "align_self": null,
      "border": null,
      "bottom": null,
      "display": null,
      "flex": null,
      "flex_flow": null,
      "grid_area": null,
      "grid_auto_columns": null,
      "grid_auto_flow": null,
      "grid_auto_rows": null,
      "grid_column": null,
      "grid_gap": null,
      "grid_row": null,
      "grid_template_areas": null,
      "grid_template_columns": null,
      "grid_template_rows": null,
      "height": null,
      "justify_content": null,
      "justify_items": null,
      "left": null,
      "margin": null,
      "max_height": null,
      "max_width": null,
      "min_height": null,
      "min_width": null,
      "object_fit": null,
      "object_position": null,
      "order": null,
      "overflow": null,
      "overflow_x": null,
      "overflow_y": null,
      "padding": null,
      "right": null,
      "top": null,
      "visibility": null,
      "width": null
     }
    },
    "1de32da9b19648e4b19fe4079bfc81ee": {
     "model_module": "@jupyter-widgets/controls",
     "model_name": "HTMLModel",
     "state": {
      "_dom_classes": [],
      "_model_module": "@jupyter-widgets/controls",
      "_model_module_version": "1.5.0",
      "_model_name": "HTMLModel",
      "_view_count": null,
      "_view_module": "@jupyter-widgets/controls",
      "_view_module_version": "1.5.0",
      "_view_name": "HTMLView",
      "description": "",
      "description_tooltip": null,
      "layout": "IPY_MODEL_091e8e2672b34f998eb5e3189137fd23",
      "placeholder": "​",
      "style": "IPY_MODEL_74387ae2258048578884b2f56b22c085",
      "value": " 138k/? [00:00&lt;00:00, 3.12MB/s]"
     }
    },
    "2264125b343f456aa23b5ecfe2472b5c": {
     "model_module": "@jupyter-widgets/base",
     "model_name": "LayoutModel",
     "state": {
      "_model_module": "@jupyter-widgets/base",
      "_model_module_version": "1.2.0",
      "_model_name": "LayoutModel",
      "_view_count": null,
      "_view_module": "@jupyter-widgets/base",
      "_view_module_version": "1.2.0",
      "_view_name": "LayoutView",
      "align_content": null,
      "align_items": null,
      "align_self": null,
      "border": null,
      "bottom": null,
      "display": null,
      "flex": null,
      "flex_flow": null,
      "grid_area": null,
      "grid_auto_columns": null,
      "grid_auto_flow": null,
      "grid_auto_rows": null,
      "grid_column": null,
      "grid_gap": null,
      "grid_row": null,
      "grid_template_areas": null,
      "grid_template_columns": null,
      "grid_template_rows": null,
      "height": null,
      "justify_content": null,
      "justify_items": null,
      "left": null,
      "margin": null,
      "max_height": null,
      "max_width": null,
      "min_height": null,
      "min_width": null,
      "object_fit": null,
      "object_position": null,
      "order": null,
      "overflow": null,
      "overflow_x": null,
      "overflow_y": null,
      "padding": null,
      "right": null,
      "top": null,
      "visibility": null,
      "width": null
     }
    },
    "2b3d39686e874080be7f06ef4262519a": {
     "model_module": "@jupyter-widgets/base",
     "model_name": "LayoutModel",
     "state": {
      "_model_module": "@jupyter-widgets/base",
      "_model_module_version": "1.2.0",
      "_model_name": "LayoutModel",
      "_view_count": null,
      "_view_module": "@jupyter-widgets/base",
      "_view_module_version": "1.2.0",
      "_view_name": "LayoutView",
      "align_content": null,
      "align_items": null,
      "align_self": null,
      "border": null,
      "bottom": null,
      "display": null,
      "flex": null,
      "flex_flow": null,
      "grid_area": null,
      "grid_auto_columns": null,
      "grid_auto_flow": null,
      "grid_auto_rows": null,
      "grid_column": null,
      "grid_gap": null,
      "grid_row": null,
      "grid_template_areas": null,
      "grid_template_columns": null,
      "grid_template_rows": null,
      "height": null,
      "justify_content": null,
      "justify_items": null,
      "left": null,
      "margin": null,
      "max_height": null,
      "max_width": null,
      "min_height": null,
      "min_width": null,
      "object_fit": null,
      "object_position": null,
      "order": null,
      "overflow": null,
      "overflow_x": null,
      "overflow_y": null,
      "padding": null,
      "right": null,
      "top": null,
      "visibility": null,
      "width": null
     }
    },
    "33e9e4b2208d4c05975d4d39fcb100bc": {
     "model_module": "@jupyter-widgets/controls",
     "model_name": "HBoxModel",
     "state": {
      "_dom_classes": [],
      "_model_module": "@jupyter-widgets/controls",
      "_model_module_version": "1.5.0",
      "_model_name": "HBoxModel",
      "_view_count": null,
      "_view_module": "@jupyter-widgets/controls",
      "_view_module_version": "1.5.0",
      "_view_name": "HBoxView",
      "box_style": "",
      "children": [
       "IPY_MODEL_6207b55bd3fc4450ab20412ad8d510a1",
       "IPY_MODEL_1de32da9b19648e4b19fe4079bfc81ee"
      ],
      "layout": "IPY_MODEL_e347b6002ad64d1bbf916a260c5ce8d0"
     }
    },
    "51332292172c4d3aa2942743a580828b": {
     "model_module": "@jupyter-widgets/controls",
     "model_name": "ProgressStyleModel",
     "state": {
      "_model_module": "@jupyter-widgets/controls",
      "_model_module_version": "1.5.0",
      "_model_name": "ProgressStyleModel",
      "_view_count": null,
      "_view_module": "@jupyter-widgets/base",
      "_view_module_version": "1.2.0",
      "_view_name": "StyleView",
      "bar_color": null,
      "description_width": "initial"
     }
    },
    "6207b55bd3fc4450ab20412ad8d510a1": {
     "model_module": "@jupyter-widgets/controls",
     "model_name": "FloatProgressModel",
     "state": {
      "_dom_classes": [],
      "_model_module": "@jupyter-widgets/controls",
      "_model_module_version": "1.5.0",
      "_model_name": "FloatProgressModel",
      "_view_count": null,
      "_view_module": "@jupyter-widgets/controls",
      "_view_module_version": "1.5.0",
      "_view_name": "ProgressView",
      "bar_style": "success",
      "description": "Downloading https://raw.githubusercontent.com/stanfordnlp/stanza-resources/main/resources_1.2.1.json: ",
      "description_tooltip": null,
      "layout": "IPY_MODEL_7e04be2bf58b45b8a0f72ff36921b94c",
      "max": 23726,
      "min": 0,
      "orientation": "horizontal",
      "style": "IPY_MODEL_754c65bb41f842748d071b339bba40f6",
      "value": 23726
     }
    },
    "74387ae2258048578884b2f56b22c085": {
     "model_module": "@jupyter-widgets/controls",
     "model_name": "DescriptionStyleModel",
     "state": {
      "_model_module": "@jupyter-widgets/controls",
      "_model_module_version": "1.5.0",
      "_model_name": "DescriptionStyleModel",
      "_view_count": null,
      "_view_module": "@jupyter-widgets/base",
      "_view_module_version": "1.2.0",
      "_view_name": "StyleView",
      "description_width": ""
     }
    },
    "754c65bb41f842748d071b339bba40f6": {
     "model_module": "@jupyter-widgets/controls",
     "model_name": "ProgressStyleModel",
     "state": {
      "_model_module": "@jupyter-widgets/controls",
      "_model_module_version": "1.5.0",
      "_model_name": "ProgressStyleModel",
      "_view_count": null,
      "_view_module": "@jupyter-widgets/base",
      "_view_module_version": "1.2.0",
      "_view_name": "StyleView",
      "bar_color": null,
      "description_width": "initial"
     }
    },
    "7e04be2bf58b45b8a0f72ff36921b94c": {
     "model_module": "@jupyter-widgets/base",
     "model_name": "LayoutModel",
     "state": {
      "_model_module": "@jupyter-widgets/base",
      "_model_module_version": "1.2.0",
      "_model_name": "LayoutModel",
      "_view_count": null,
      "_view_module": "@jupyter-widgets/base",
      "_view_module_version": "1.2.0",
      "_view_name": "LayoutView",
      "align_content": null,
      "align_items": null,
      "align_self": null,
      "border": null,
      "bottom": null,
      "display": null,
      "flex": null,
      "flex_flow": null,
      "grid_area": null,
      "grid_auto_columns": null,
      "grid_auto_flow": null,
      "grid_auto_rows": null,
      "grid_column": null,
      "grid_gap": null,
      "grid_row": null,
      "grid_template_areas": null,
      "grid_template_columns": null,
      "grid_template_rows": null,
      "height": null,
      "justify_content": null,
      "justify_items": null,
      "left": null,
      "margin": null,
      "max_height": null,
      "max_width": null,
      "min_height": null,
      "min_width": null,
      "object_fit": null,
      "object_position": null,
      "order": null,
      "overflow": null,
      "overflow_x": null,
      "overflow_y": null,
      "padding": null,
      "right": null,
      "top": null,
      "visibility": null,
      "width": null
     }
    },
    "a5a4860a0bff49379d848ab83fd60df4": {
     "model_module": "@jupyter-widgets/controls",
     "model_name": "DescriptionStyleModel",
     "state": {
      "_model_module": "@jupyter-widgets/controls",
      "_model_module_version": "1.5.0",
      "_model_name": "DescriptionStyleModel",
      "_view_count": null,
      "_view_module": "@jupyter-widgets/base",
      "_view_module_version": "1.2.0",
      "_view_name": "StyleView",
      "description_width": ""
     }
    },
    "a8404f2ced4247b5bcca4d76aa525a58": {
     "model_module": "@jupyter-widgets/controls",
     "model_name": "HBoxModel",
     "state": {
      "_dom_classes": [],
      "_model_module": "@jupyter-widgets/controls",
      "_model_module_version": "1.5.0",
      "_model_name": "HBoxModel",
      "_view_count": null,
      "_view_module": "@jupyter-widgets/controls",
      "_view_module_version": "1.5.0",
      "_view_name": "HBoxView",
      "box_style": "",
      "children": [
       "IPY_MODEL_ca5b1374e51a41e48e50a942aa9ca633",
       "IPY_MODEL_b29366645cdf4ff69c4f4592fce4feaf"
      ],
      "layout": "IPY_MODEL_2b3d39686e874080be7f06ef4262519a"
     }
    },
    "b29366645cdf4ff69c4f4592fce4feaf": {
     "model_module": "@jupyter-widgets/controls",
     "model_name": "HTMLModel",
     "state": {
      "_dom_classes": [],
      "_model_module": "@jupyter-widgets/controls",
      "_model_module_version": "1.5.0",
      "_model_name": "HTMLModel",
      "_view_count": null,
      "_view_module": "@jupyter-widgets/controls",
      "_view_module_version": "1.5.0",
      "_view_name": "HTMLView",
      "description": "",
      "description_tooltip": null,
      "layout": "IPY_MODEL_2264125b343f456aa23b5ecfe2472b5c",
      "placeholder": "​",
      "style": "IPY_MODEL_a5a4860a0bff49379d848ab83fd60df4",
      "value": " 412M/412M [11:30&lt;00:00, 596kB/s]"
     }
    },
    "ca5b1374e51a41e48e50a942aa9ca633": {
     "model_module": "@jupyter-widgets/controls",
     "model_name": "FloatProgressModel",
     "state": {
      "_dom_classes": [],
      "_model_module": "@jupyter-widgets/controls",
      "_model_module_version": "1.5.0",
      "_model_name": "FloatProgressModel",
      "_view_count": null,
      "_view_module": "@jupyter-widgets/controls",
      "_view_module_version": "1.5.0",
      "_view_name": "ProgressView",
      "bar_style": "success",
      "description": "Downloading http://nlp.stanford.edu/software/stanza/1.2.1/en/default.zip: 100%",
      "description_tooltip": null,
      "layout": "IPY_MODEL_083215d9466449509ee2bbf965ccc3dc",
      "max": 411784510,
      "min": 0,
      "orientation": "horizontal",
      "style": "IPY_MODEL_51332292172c4d3aa2942743a580828b",
      "value": 411784510
     }
    },
    "e347b6002ad64d1bbf916a260c5ce8d0": {
     "model_module": "@jupyter-widgets/base",
     "model_name": "LayoutModel",
     "state": {
      "_model_module": "@jupyter-widgets/base",
      "_model_module_version": "1.2.0",
      "_model_name": "LayoutModel",
      "_view_count": null,
      "_view_module": "@jupyter-widgets/base",
      "_view_module_version": "1.2.0",
      "_view_name": "LayoutView",
      "align_content": null,
      "align_items": null,
      "align_self": null,
      "border": null,
      "bottom": null,
      "display": null,
      "flex": null,
      "flex_flow": null,
      "grid_area": null,
      "grid_auto_columns": null,
      "grid_auto_flow": null,
      "grid_auto_rows": null,
      "grid_column": null,
      "grid_gap": null,
      "grid_row": null,
      "grid_template_areas": null,
      "grid_template_columns": null,
      "grid_template_rows": null,
      "height": null,
      "justify_content": null,
      "justify_items": null,
      "left": null,
      "margin": null,
      "max_height": null,
      "max_width": null,
      "min_height": null,
      "min_width": null,
      "object_fit": null,
      "object_position": null,
      "order": null,
      "overflow": null,
      "overflow_x": null,
      "overflow_y": null,
      "padding": null,
      "right": null,
      "top": null,
      "visibility": null,
      "width": null
     }
    }
   }
  }
 },
 "nbformat": 4,
 "nbformat_minor": 5
}
